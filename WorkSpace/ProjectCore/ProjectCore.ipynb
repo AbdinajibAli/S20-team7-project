{
 "cells": [
  {
   "cell_type": "markdown",
   "metadata": {},
   "source": [
    "#### PRNG evolution analysis with prediction attacks"
   ]
  },
  {
   "cell_type": "code",
   "execution_count": 1,
   "metadata": {},
   "outputs": [
    {
     "name": "stderr",
     "output_type": "stream",
     "text": [
      "Using TensorFlow backend.\n"
     ]
    }
   ],
   "source": [
    "#Basic imports for now\n",
    "\n",
    "# NN-Tools\n",
    "import numpy as np \n",
    "import keras \n",
    "\n",
    "# Visualization\n",
    "from IPython.display import SVG \n",
    "from IPython.display import display\n",
    "from keras.utils.vis_utils import model_to_dot\n",
    "from keras.utils import plot_model\n",
    "\n",
    "# Printing\n",
    "from sympy import *\n",
    "init_printing(use_latex=True)\n",
    "\n",
    "# Plotting\n",
    "import matplotlib.pyplot as plt\n",
    "%matplotlib inline"
   ]
  },
  {
   "cell_type": "code",
   "execution_count": 1,
   "metadata": {},
   "outputs": [
    {
     "name": "stdout",
     "output_type": "stream",
     "text": [
      "6.372157161823704e+17\n",
      "Maximally_Periodic_Reciprocals\n",
      "You have passed prime check, sophie check, safeprime_listlength check , and decprec_listlength check.\n",
      "--- 0.001861572265625 seconds ---\n",
      "['0', '4', '3', '4', '7', '8', '2', '6', '0', '8', '6', '9', '5', '6', '5', '2', '1', '7', '3', '9']\n"
     ]
    }
   ],
   "source": [
    "from PRNGs import *\n",
    "from SeedGenerator import *\n",
    "import time\n",
    "\n",
    "\n",
    "t = ticks()\n",
    "\n",
    "print(t)\n",
    "start_time = time.time()\n",
    "ls = Maximally_Periodic_Reciprocals(11,22,22)\n",
    "print(\"--- %s seconds ---\" % (time.time() - start_time))\n",
    "\n",
    "print(str(ls))\n",
    "#print(\"asdf\")\n"
   ]
  },
  {
   "cell_type": "code",
   "execution_count": null,
   "metadata": {},
   "outputs": [],
   "source": []
  },
  {
   "cell_type": "code",
   "execution_count": null,
   "metadata": {},
   "outputs": [],
   "source": [
    "\n"
   ]
  },
  {
   "cell_type": "code",
   "execution_count": null,
   "metadata": {},
   "outputs": [],
   "source": [
    "#initially using fewer kernels and increasing gradually while monitoring the error rate on how it is varying\n",
    "model = keras.Sequential()\n",
    "model.add(keras.layers.Conv1D(64, kernel_size=2,\n",
    "    activation='relu',\n",
    "    input_shape=()) \n",
    "        \n",
    "    #data work in progress\n",
    "          \n",
    "model.add(keras.layers.Conv1D(64, 2, activation='relu'))\n",
    "model.add(keras.layers.Conv1D(64, 2, activation='relu'))\n",
    "model.add(keras.layers.Conv1D(64, 2, activation='relu'))\n",
    "\n",
    "#test pool size and monitor what works better\n",
    "\n",
    "model.add(keras.layers.MaxPooling1D(pool_size=(4)))\n",
    "model.add(keras.layers.Dropout(0.25))\n",
    "model.add(keras.layers.Flatten())\n",
    "model.add(keras.layers.Dense(4, activation='relu'))\n",
    "model.add(keras.layers.Dropout(0.5))\n",
    "          \n",
    "          \n",
    "model.add(keras.layers.Dense(1, activation='softmax'))\n",
    "          \n",
    "    #data work in progress\n",
    "          \n",
    "model.compile(loss=keras.losses.categorical_crossentropy,\n",
    "    optimizer=keras.optimizers.Adam(),\n",
    "    metrics=['accuracy'])\n",
    "          \n",
    "model.summary()"
   ]
  },
  {
   "cell_type": "code",
   "execution_count": null,
   "metadata": {},
   "outputs": [],
   "source": []
  }
 ],
 "metadata": {
  "kernelspec": {
   "display_name": "Python 3",
   "language": "python",
   "name": "python3"
  },
  "language_info": {
   "codemirror_mode": {
    "name": "ipython",
    "version": 3
   },
   "file_extension": ".py",
   "mimetype": "text/x-python",
   "name": "python",
   "nbconvert_exporter": "python",
   "pygments_lexer": "ipython3",
   "version": "3.7.6"
  }
 },
 "nbformat": 4,
 "nbformat_minor": 4
}

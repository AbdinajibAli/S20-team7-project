{
 "cells": [
  {
   "cell_type": "markdown",
   "metadata": {},
   "source": [
    "#### PRNG evolution analysis with prediction attacks"
   ]
  },
  {
   "cell_type": "markdown",
   "metadata": {},
   "source": [
    "The cell below contains experimental configuration settings in the form of a python dictionary."
   ]
  },
  {
   "cell_type": "code",
   "execution_count": 1,
   "metadata": {},
   "outputs": [
    {
     "name": "stderr",
     "output_type": "stream",
     "text": [
      "Using TensorFlow backend.\n"
     ]
    }
   ],
   "source": [
    "from Core.Experiment import Experiment\n",
    "#pip install keras-tqdm\n",
    "\n"
   ]
  },
  {
   "cell_type": "code",
   "execution_count": 2,
   "metadata": {},
   "outputs": [
    {
     "name": "stdout",
     "output_type": "stream",
     "text": [
      "Prng defs:  {'Middle_Square': '1946', 'Linear_Congruential': '1958', 'Lagged_Fibonacci': '1958', 'Wichmann_Hill': '1982', 'Park_Miller': '1988', 'Maximally_Periodic_Reciprocals': '1992', 'Mersenne_Twister': '1998'}\n",
      "\n",
      "********** Lagged_Fibonacci Experiment Initiated**********\n",
      "\n",
      "Configuration settings accepted: {'DISABLE_TQDMN': False, 'VERBOSE': 1, 'LOUD_LOGGING': True, 'IS_NEW_MODEL': True, 'PATH': './Lagged_Fibonacci/', 'SEED_METHOD': 'ticks_LF', 'PRNG_METHOD': 'Lagged_Fibonacci', 'NUM_SETS': 1000, 'SET_LEN': 2000, 'BATCH_SIZE': 15, 'NUM_EPOCHS': 5, 'CHKPNT_MONITOR': 'mae', 'CHKPNT_MODE': 'min', 'USE_VALIDATION': True, 'VALIDATION_SPLIT': 0.2, 'OVERRIDE_LOAD_COMPILATION': False, 'LR': 0.001, 'LOSS_METHOD': 'mean_absolute_error'}\n",
      "\n",
      "Generating 1000 sets of 2000 using Lagged_Fibonacci ...\n",
      "\n",
      "Generation Successful!\n",
      "\n",
      "Normalizing and shaping data for training...\n",
      "\n",
      "Training and testing sets were successfully generated with input and target data...\n",
      "\n",
      "x_train (1000, 1999, 1)\n",
      "y_train (1000,)\n",
      "x_test (1000, 1999, 1)\n",
      "y_test (1000,)\n",
      "\n",
      "Printing Model Summary...\n",
      "\n",
      "Model: \"sequential_1\"\n",
      "_________________________________________________________________\n",
      "Layer (type)                 Output Shape              Param #   \n",
      "=================================================================\n",
      "conv_1 (Conv1D)              (None, 1998, 4)           12        \n",
      "_________________________________________________________________\n",
      "conv_2 (Conv1D)              (None, 1997, 4)           36        \n",
      "_________________________________________________________________\n",
      "conv_3 (Conv1D)              (None, 1996, 4)           36        \n",
      "_________________________________________________________________\n",
      "conv_4 (Conv1D)              (None, 1995, 4)           36        \n",
      "_________________________________________________________________\n",
      "maxpool_1 (MaxPooling1D)     (None, 1995, 4)           0         \n",
      "_________________________________________________________________\n",
      "dropout_1 (Dropout)          (None, 1995, 4)           0         \n",
      "_________________________________________________________________\n",
      "flatten_1 (Flatten)          (None, 7980)              0         \n",
      "_________________________________________________________________\n",
      "dense_1 (Dense)              (None, 4)                 31924     \n",
      "_________________________________________________________________\n",
      "dense_2 (Dense)              (None, 1)                 5         \n",
      "=================================================================\n",
      "Total params: 32,049\n",
      "Trainable params: 32,049\n",
      "Non-trainable params: 0\n",
      "_________________________________________________________________\n",
      "\n",
      "Initiate Training...\n",
      "\n"
     ]
    },
    {
     "data": {
      "text/html": [
       "\n",
       "            <style>\n",
       "                .p-Widget.jp-OutputPrompt.jp-OutputArea-prompt:empty {\n",
       "                      padding: 0;\n",
       "                      border: 0;\n",
       "                }\n",
       "            </style>\n",
       "        "
      ],
      "text/plain": [
       "<IPython.core.display.HTML object>"
      ]
     },
     "metadata": {},
     "output_type": "display_data"
    },
    {
     "name": "stdout",
     "output_type": "stream",
     "text": [
      "Train on 800 samples, validate on 200 samples\n"
     ]
    },
    {
     "data": {
      "application/vnd.jupyter.widget-view+json": {
       "model_id": "7686905b55854689854521d43630985f",
       "version_major": 2,
       "version_minor": 0
      },
      "text/plain": [
       "HBox(children=(FloatProgress(value=0.0, description='Training', max=5.0, style=ProgressStyle(description_width…"
      ]
     },
     "metadata": {},
     "output_type": "display_data"
    },
    {
     "name": "stdout",
     "output_type": "stream",
     "text": [
      "Epoch 1/5\n"
     ]
    },
    {
     "data": {
      "application/vnd.jupyter.widget-view+json": {
       "model_id": "",
       "version_major": 2,
       "version_minor": 0
      },
      "text/plain": [
       "HBox(children=(FloatProgress(value=0.0, description='Epoch 0', max=800.0, style=ProgressStyle(description_widt…"
      ]
     },
     "metadata": {},
     "output_type": "display_data"
    },
    {
     "name": "stdout",
     "output_type": "stream",
     "text": [
      "800/800 [==============================] - 2s 3ms/step - loss: 0.0094 - mae: 0.0094 - val_loss: 0.0031 - val_mae: 0.0031\n",
      "\n",
      "Epoch 00001: mae improved from inf to 0.00937, saving model to ./Lagged_Fibonacci/model.hd5\n",
      "Epoch 2/5\n"
     ]
    },
    {
     "data": {
      "application/vnd.jupyter.widget-view+json": {
       "model_id": "",
       "version_major": 2,
       "version_minor": 0
      },
      "text/plain": [
       "HBox(children=(FloatProgress(value=0.0, description='Epoch 1', max=800.0, style=ProgressStyle(description_widt…"
      ]
     },
     "metadata": {},
     "output_type": "display_data"
    },
    {
     "name": "stdout",
     "output_type": "stream",
     "text": [
      "800/800 [==============================] - 1s 2ms/step - loss: 0.0017 - mae: 0.0017 - val_loss: 0.0015 - val_mae: 0.0015\n",
      "\n",
      "Epoch 00002: mae improved from 0.00937 to 0.00170, saving model to ./Lagged_Fibonacci/model.hd5\n",
      "Epoch 3/5\n"
     ]
    },
    {
     "data": {
      "application/vnd.jupyter.widget-view+json": {
       "model_id": "",
       "version_major": 2,
       "version_minor": 0
      },
      "text/plain": [
       "HBox(children=(FloatProgress(value=0.0, description='Epoch 2', max=800.0, style=ProgressStyle(description_widt…"
      ]
     },
     "metadata": {},
     "output_type": "display_data"
    },
    {
     "name": "stdout",
     "output_type": "stream",
     "text": [
      "800/800 [==============================] - 1s 2ms/step - loss: 0.0012 - mae: 0.0012 - val_loss: 0.0014 - val_mae: 0.0014\n",
      "\n",
      "Epoch 00003: mae improved from 0.00170 to 0.00122, saving model to ./Lagged_Fibonacci/model.hd5\n",
      "Epoch 4/5\n"
     ]
    },
    {
     "data": {
      "application/vnd.jupyter.widget-view+json": {
       "model_id": "",
       "version_major": 2,
       "version_minor": 0
      },
      "text/plain": [
       "HBox(children=(FloatProgress(value=0.0, description='Epoch 3', max=800.0, style=ProgressStyle(description_widt…"
      ]
     },
     "metadata": {},
     "output_type": "display_data"
    },
    {
     "name": "stdout",
     "output_type": "stream",
     "text": [
      "800/800 [==============================] - 1s 2ms/step - loss: 0.0013 - mae: 0.0013 - val_loss: 9.1780e-04 - val_mae: 9.1780e-04\n",
      "\n",
      "Epoch 00004: mae did not improve from 0.00122\n",
      "Epoch 5/5\n"
     ]
    },
    {
     "data": {
      "application/vnd.jupyter.widget-view+json": {
       "model_id": "",
       "version_major": 2,
       "version_minor": 0
      },
      "text/plain": [
       "HBox(children=(FloatProgress(value=0.0, description='Epoch 4', max=800.0, style=ProgressStyle(description_widt…"
      ]
     },
     "metadata": {},
     "output_type": "display_data"
    },
    {
     "name": "stdout",
     "output_type": "stream",
     "text": [
      "800/800 [==============================] - 1s 2ms/step - loss: 0.0013 - mae: 0.0013 - val_loss: 0.0015 - val_mae: 0.0015\n",
      "\n",
      "Epoch 00005: mae did not improve from 0.00122\n",
      "\n",
      "Training Finished!\n",
      "\n",
      "Printing results...\n",
      "\n",
      "History Keys:  dict_keys(['val_loss', 'val_mae', 'loss', 'mae'])\n"
     ]
    },
    {
     "data": {
      "image/png": "[encoded data removed]",
      "text/plain": [
       "<Figure size 432x288 with 1 Axes>"
      ]
     },
     "metadata": {
      "needs_background": "light"
     },
     "output_type": "display_data"
    },
    {
     "data": {
      "image/png": "[encoded data removed]",
      "text/plain": [
       "<Figure size 432x288 with 1 Axes>"
      ]
     },
     "metadata": {
      "needs_background": "light"
     },
     "output_type": "display_data"
    },
    {
     "name": "stdout",
     "output_type": "stream",
     "text": [
      "\n",
      "Pearson Correlation Coefficient: 0.5264539410275137\n",
      "2-tailed p-value:                 2.206479151092223e-72 \n",
      "\n",
      "Finished training, testing, and logging. Files saved to ./Lagged_Fibonacci/ \n",
      "\n",
      "********** Lagged_Fibonacci finished**********\n"
     ]
    }
   ],
   "source": [
    "from Core.PrngMethods import Get_Defs\n",
    "\n",
    "defs = Get_Defs()\n",
    "\n",
    "print('Prng defs: ',defs)  \n",
    "\n",
    "configuration = {\n",
    "        'DISABLE_TQDMN' : False,\n",
    "        'VERBOSE' : 1,\n",
    "        'LOUD_LOGGING': True,\n",
    "    \n",
    "        'IS_NEW_MODEL' : True,\n",
    "        'PATH' : './Lagged_Fibonacci/',\n",
    "        'SEED_METHOD' : 'ticks_LF',               \n",
    "        'PRNG_METHOD' : 'Lagged_Fibonacci',       \n",
    "        'NUM_SETS' : 1000,                     \n",
    "        'SET_LEN': 2000,                                               \n",
    "        'BATCH_SIZE': 15,\n",
    "        'NUM_EPOCHS': 5,\n",
    "        \n",
    "        'CHKPNT_MONITOR' : 'mae',\n",
    "        'CHKPNT_MODE' : 'min',\n",
    "        \n",
    "        \n",
    "        'USE_VALIDATION' : True ,\n",
    "        'VALIDATION_SPLIT' :  0.2,\n",
    "    \n",
    "        'OVERRIDE_LOAD_COMPILATION' : False,\n",
    "        'LR': .001,\n",
    "        'LOSS_METHOD':'mean_absolute_error' #mae\n",
    "    }  \n",
    "\n",
    "E = Experiment(configuration)\n",
    "E.perform()"
   ]
  },
  {
   "cell_type": "code",
   "execution_count": null,
   "metadata": {},
   "outputs": [],
   "source": []
  },
  {
   "cell_type": "code",
   "execution_count": null,
   "metadata": {},
   "outputs": [],
   "source": []
  },
  {
   "cell_type": "code",
   "execution_count": null,
   "metadata": {},
   "outputs": [],
   "source": []
  },
  {
   "cell_type": "code",
   "execution_count": null,
   "metadata": {},
   "outputs": [],
   "source": []
  },
  {
   "cell_type": "code",
   "execution_count": 8,
   "metadata": {},
   "outputs": [
    {
     "name": "stdout",
     "output_type": "stream",
     "text": [
      "7259117184\n"
     ]
    }
   ],
   "source": [
    "#Seed generator tests.\n",
    "\n",
    "from datetime import *\n",
    "\n",
    "def ticks():\n",
    "    return  int(str( int( (datetime.utcnow() - datetime(1, 1, 1)).total_seconds() * 10000000 ))[-10:])\n",
    "\n",
    "print(int(ticks()))"
   ]
  },
  {
   "cell_type": "code",
   "execution_count": null,
   "metadata": {},
   "outputs": [],
   "source": []
  },
  {
   "cell_type": "code",
   "execution_count": null,
   "metadata": {},
   "outputs": [],
   "source": []
  },
  {
   "cell_type": "code",
   "execution_count": null,
   "metadata": {},
   "outputs": [],
   "source": []
  }
 ],
 "metadata": {
  "kernelspec": {
   "display_name": "Python 3",
   "language": "python",
   "name": "python3"
  },
  "language_info": {
   "codemirror_mode": {
    "name": "ipython",
    "version": 3
   },
   "file_extension": ".py",
   "mimetype": "text/x-python",
   "name": "python",
   "nbconvert_exporter": "python",
   "pygments_lexer": "ipython3",
   "version": "3.7.6"
  }
 },
 "nbformat": 4,
 "nbformat_minor": 4
}

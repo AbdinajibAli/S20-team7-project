{
 "cells": [
  {
   "cell_type": "markdown",
   "metadata": {},
   "source": [
    "#### PRNG evolution analysis with prediction attacks"
   ]
  },
  {
   "cell_type": "code",
   "execution_count": 1,
   "metadata": {},
   "outputs": [
    {
     "name": "stderr",
     "output_type": "stream",
     "text": [
      "Using TensorFlow backend.\n"
     ]
    }
   ],
   "source": [
    "#Basic imports for now\n",
    "\n",
    "# NN-Tools\n",
    "import numpy as np \n",
    "import keras \n",
    "\n",
    "# Visualization\n",
    "from IPython.display import SVG \n",
    "from IPython.display import display\n",
    "from keras.utils.vis_utils import model_to_dot\n",
    "from keras.utils import plot_model\n",
    "\n",
    "# Printing\n",
    "from sympy import *\n",
    "init_printing(use_latex=True)\n",
    "\n",
    "# Plotting\n",
    "import matplotlib.pyplot as plt\n",
    "%matplotlib inline\n",
    "\n",
    "# custom tooling for seeding and PRNG\n",
    "from PRNGs import *\n",
    "from SeedGenerator import *\n",
    "\n",
    "# for data normalization\n",
    "from sklearn import preprocessing"
   ]
  },
  {
   "cell_type": "code",
   "execution_count": 2,
   "metadata": {},
   "outputs": [
    {
     "name": "stdout",
     "output_type": "stream",
     "text": [
      "(1000, 999, 1)\n",
      "(1000,)\n"
     ]
    }
   ],
   "source": [
    "# Generation Parameters: Generate y sets of length z\n",
    "NumberofSets = 1000\n",
    "LengthofEachSet = 1000\n",
    "\n",
    "# train and test data inits\n",
    "x_train = []\n",
    "y_train = []\n",
    "\n",
    "x_test = []\n",
    "y_test = []\n",
    "\n",
    "# Description:\n",
    "# This function invokes the PRNG and obtains y sets of length z. \n",
    "# Each set has its own seed, obtained from our custom SeedGenerator\n",
    "# It then splices the last number in a set off and appends\n",
    "# n-1 to x (for x_train or test) and the nth to y (for y_train or test)\n",
    "# Params:\n",
    "# x: gets the first n-1 values of each set\n",
    "# y: gets the nth value of the set\n",
    "# numsets: represents the amount of sets\n",
    "# setlength: represents length of each set\n",
    "def aggregate_and_split(x,y, numsets, setlength):\n",
    "    temp = []\n",
    "    for i in range(numsets):\n",
    "        t = ticks()\n",
    "        temp = Middle_Square(t,setlength)\n",
    "        for a in range(len(temp)): #little expensive\n",
    "            temp[a] = int(temp[a])\n",
    "        n = temp[-1]\n",
    "        y.append(n)\n",
    "        x.append(temp[:-1])\n",
    "             \n",
    "#### set up training data: ####\n",
    "aggregate_and_split(x_train, y_train, NumberofSets, LengthofEachSet)\n",
    "\n",
    "#normalize data to prevent weight values overflowing (NaN) and convert to np.array\n",
    "x_train = preprocessing.normalize(np.array(x_train))\n",
    "y_train = preprocessing.normalize(np.array([y_train]))\n",
    "\n",
    "y_train = y_train.flatten() #ravel will be more efficient if we don't need to modify.\n",
    "\n",
    "\n",
    "#### set up testing data: ####\n",
    "aggregate_and_split(x_test, y_test, 1000, 1000)\n",
    "x_test = preprocessing.normalize(np.array(x_test))\n",
    "y_test = preprocessing.normalize(np.array([y_test]))\n",
    "\n",
    "#normalize data to prevent weight values overflowing (NaN) and convert to np.array\n",
    "x_train = x_train.reshape(x_train.shape[0], x_train.shape[1], 1)\n",
    "x_test = x_test.reshape(x_test.shape[0], x_test.shape[1], 1)\n",
    "\n",
    "y_test = y_test.flatten() #ravel will be more efficient if we don't need to modify.\n",
    "\n",
    "\n",
    "#various prints:\n",
    "print(x_train.shape)\n",
    "print(y_train.shape)\n",
    "#print(x_train)\n",
    "#print(y_train)\n",
    "\n",
    "#print(x_test)\n",
    "#print(x_test.shape)\n",
    "#print(y_test.shape)\n"
   ]
  },
  {
   "cell_type": "code",
   "execution_count": 3,
   "metadata": {},
   "outputs": [
    {
     "name": "stdout",
     "output_type": "stream",
     "text": [
      "Model: \"sequential_1\"\n",
      "_________________________________________________________________\n",
      "Layer (type)                 Output Shape              Param #   \n",
      "=================================================================\n",
      "conv_1 (Conv1D)              (None, 997, 3)            12        \n",
      "_________________________________________________________________\n",
      "conv_2 (Conv1D)              (None, 996, 4)            28        \n",
      "_________________________________________________________________\n",
      "conv_3 (Conv1D)              (None, 987, 20)           820       \n",
      "_________________________________________________________________\n",
      "conv_4 (Conv1D)              (None, 983, 50)           5050      \n",
      "_________________________________________________________________\n",
      "maxpool_1 (MaxPooling1D)     (None, 983, 50)           0         \n",
      "_________________________________________________________________\n",
      "dropout_1 (Dropout)          (None, 983, 50)           0         \n",
      "_________________________________________________________________\n",
      "flatten_1 (Flatten)          (None, 49150)             0         \n",
      "_________________________________________________________________\n",
      "dense_1 (Dense)              (None, 4)                 196604    \n",
      "_________________________________________________________________\n",
      "dense_2 (Dense)              (None, 1)                 5         \n",
      "=================================================================\n",
      "Total params: 202,519\n",
      "Trainable params: 202,519\n",
      "Non-trainable params: 0\n",
      "_________________________________________________________________\n"
     ]
    }
   ],
   "source": [
    "# Description:\n",
    "# This function sets up the model and returns a keras sequential model.\n",
    "# Params:\n",
    "# input_width: the size of the input layer\n",
    "# output_width: the size of the output layer\n",
    "def predictor(input_width, output_width):\n",
    "    model = keras.Sequential()\n",
    "    model.add(keras.layers.Conv1D(3, 3,\n",
    "                                activation='relu',\n",
    "                                input_shape=(input_width, 1),\n",
    "                                name='conv_1'\n",
    "                             )\n",
    "         )\n",
    "    model.add(keras.layers.Conv1D(4, 2, activation='relu', name='conv_2'))\n",
    "    model.add(keras.layers.Conv1D(20, 10, activation='relu', name='conv_3'))\n",
    "    model.add(keras.layers.Conv1D(50, 5, activation='relu', name='conv_4'))\n",
    "    model.add(keras.layers.MaxPool1D(1, 1, name='maxpool_1'))\n",
    "    model.add(keras.layers.Dropout(0.25))\n",
    "    model.add(keras.layers.Flatten(name='flatten_1'))\n",
    "    model.add(keras.layers.Dense(4, activation='relu', name='dense_1'))\n",
    "    model.add(keras.layers.Dense(output_width, activation='relu', name='dense_2'))    \n",
    "    return model\n",
    "\n",
    "mod = predictor(x_train.shape[1],1)\n",
    "          \n",
    "mod.compile(loss='mean_squared_error', optimizer='adam')\n",
    "mod.summary()"
   ]
  },
  {
   "cell_type": "code",
   "execution_count": 4,
   "metadata": {},
   "outputs": [],
   "source": [
    "batch_size=10\n",
    "epochs=100\n",
    "#history=mod.fit(x_train,y_train,batch_size=batch_size,epochs=epochs, validation_split=0.1,verbose=1, validation_data=(x_test, y_test))\n",
    "history=mod.fit(x_train,y_train,batch_size=batch_size,epochs=epochs,verbose=0)"
   ]
  },
  {
   "cell_type": "code",
   "execution_count": 5,
   "metadata": {},
   "outputs": [
    {
     "data": {
      "image/png": "[encoded data removed]",
      "text/plain": [
       "<Figure size 432x288 with 1 Axes>"
      ]
     },
     "metadata": {
      "needs_background": "light"
     },
     "output_type": "display_data"
    },
    {
     "name": "stdout",
     "output_type": "stream",
     "text": [
      "(1000,)\n",
      "(1000,)\n",
      "Pearson Correlation Coefficient: 0.036020348458091225\n",
      "2-tailed p-value:                 0.2551171060148085\n"
     ]
    }
   ],
   "source": [
    "from scipy.stats.stats import pearsonr \n",
    "y_pred = mod.predict(x_test)\n",
    "y_actual = y_test\n",
    "#mod.predict(x_test[0])\n",
    "\n",
    "plt.plot(y_actual, color = 'red', label = 'Target Data')\n",
    "plt.plot(y_pred, color = 'blue', label = 'Predicted Data')\n",
    "plt.title('Prediction')\n",
    "plt.legend()\n",
    "plt.show()\n",
    "\n",
    "y_pred = y_pred.flatten()\n",
    "\n",
    "print(y_actual.shape)\n",
    "print(y_pred.shape)\n",
    "\n",
    "\n",
    "\n",
    "pearsoncorr = pearsonr(y_actual,y_pred)\n",
    "print(\"Pearson Correlation Coefficient:\", pearsoncorr[0])\n",
    "print(\"2-tailed p-value:                \", pearsoncorr[1])\n"
   ]
  },
  {
   "cell_type": "code",
   "execution_count": 6,
   "metadata": {},
   "outputs": [
    {
     "data": {
      "text/plain": [
       "\"\\n#initially using fewer kernels and increasing gradually while monitoring the error rate on how it is varying\\nmodel = keras.Sequential()\\nmodel.add(Reshape((x.shape[1], 1), input_shape=(x.shape[1], )))\\nmodel.add(keras.layers.Conv1D(98, kernel_size=2,\\n                                activation='relu',\\n                                input_shape=(1,98)\\n                             )\\n         )\\n        \\n        \\n#data work in progress\\n          \\nmodel.add(keras.layers.Conv1D(64, 2, activation='relu'))\\nmodel.add(keras.layers.Conv1D(64, 2, activation='relu'))\\nmodel.add(keras.layers.Conv1D(64, 2, activation='relu'))\\n\\n#test pool size and monitor what works better\\n\\nmodel.add(keras.layers.MaxPooling1D(pool_size=(4)))\\nmodel.add(keras.layers.Dropout(0.25))\\nmodel.add(keras.layers.Flatten())\\nmodel.add(keras.layers.Dense(4, activation='relu'))\\nmodel.add(keras.layers.Dropout(0.5))\\n          \\n          \\nmodel.add(keras.layers.Dense(1, activation='softmax'))\\n          \\n    #data work in progress\\n          \\nmodel.compile(loss=keras.losses.sparse_categorical_crossentropy,\\n    optimizer=keras.optimizers.Adam(),\\n    metrics=['accuracy'])\\n          \\nmodel.summary()\\n          \\n\""
      ]
     },
     "execution_count": 6,
     "metadata": {},
     "output_type": "execute_result"
    }
   ],
   "source": [
    "#deprecated for now .........\n",
    "\n",
    "#scores = mod.evaluate(x_test, y_test, verbose=1)\n",
    "\n",
    "#scores[1]\n",
    "'''\n",
    "plt.figure(1)\n",
    "# summarize history for accuracy\n",
    "plt.subplot(211)\n",
    "plt.plot(history.history['accuracy'])\n",
    "plt.plot(history.history['val_accuracy'])\n",
    "plt.title('model accuracy')\n",
    "plt.ylabel('accuracy')\n",
    "plt.xlabel('epoch')\n",
    "plt.legend(['train','val'],loc='upper left')\n",
    "# summarize history for loss  \n",
    "plt.subplot(212)\n",
    "plt.plot(history.history['loss'])\n",
    "plt.plot(history.history['val_loss'])\n",
    "plt.title('model loss')\n",
    "plt.ylabel('loss')\n",
    "plt.xlabel('epoch')\n",
    "plt.legend(['train','val'],loc='upper left')\n",
    "plt.tight_layout()\n",
    "plt.show()\n",
    "'''\n",
    "import tensorflow as tf\n",
    "from tensorflow.keras.layers import Dense, Conv1D, MaxPool1D, Flatten, Reshape\n",
    "'''\n",
    "#initially using fewer kernels and increasing gradually while monitoring the error rate on how it is varying\n",
    "model = keras.Sequential()\n",
    "model.add(Reshape((x.shape[1], 1), input_shape=(x.shape[1], )))\n",
    "model.add(keras.layers.Conv1D(98, kernel_size=2,\n",
    "                                activation='relu',\n",
    "                                input_shape=(1,98)\n",
    "                             )\n",
    "         )\n",
    "        \n",
    "        \n",
    "#data work in progress\n",
    "          \n",
    "model.add(keras.layers.Conv1D(64, 2, activation='relu'))\n",
    "model.add(keras.layers.Conv1D(64, 2, activation='relu'))\n",
    "model.add(keras.layers.Conv1D(64, 2, activation='relu'))\n",
    "\n",
    "#test pool size and monitor what works better\n",
    "\n",
    "model.add(keras.layers.MaxPooling1D(pool_size=(4)))\n",
    "model.add(keras.layers.Dropout(0.25))\n",
    "model.add(keras.layers.Flatten())\n",
    "model.add(keras.layers.Dense(4, activation='relu'))\n",
    "model.add(keras.layers.Dropout(0.5))\n",
    "          \n",
    "          \n",
    "model.add(keras.layers.Dense(1, activation='softmax'))\n",
    "          \n",
    "    #data work in progress\n",
    "          \n",
    "model.compile(loss=keras.losses.sparse_categorical_crossentropy,\n",
    "    optimizer=keras.optimizers.Adam(),\n",
    "    metrics=['accuracy'])\n",
    "          \n",
    "model.summary()\n",
    "          \n",
    "'''    \n"
   ]
  },
  {
   "cell_type": "code",
   "execution_count": 28,
   "metadata": {},
   "outputs": [],
   "source": []
  },
  {
   "cell_type": "code",
   "execution_count": null,
   "metadata": {},
   "outputs": [],
   "source": []
  }
 ],
 "metadata": {
  "kernelspec": {
   "display_name": "Python 3",
   "language": "python",
   "name": "python3"
  },
  "language_info": {
   "codemirror_mode": {
    "name": "ipython",
    "version": 3
   },
   "file_extension": ".py",
   "mimetype": "text/x-python",
   "name": "python",
   "nbconvert_exporter": "python",
   "pygments_lexer": "ipython3",
   "version": "3.7.6"
  }
 },
 "nbformat": 4,
 "nbformat_minor": 4
}

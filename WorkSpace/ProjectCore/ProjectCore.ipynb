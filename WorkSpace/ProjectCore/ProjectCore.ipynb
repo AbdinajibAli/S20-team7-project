{
 "cells": [
  {
   "cell_type": "markdown",
   "metadata": {},
   "source": [
    "#### PRNG evolution analysis with prediction attacks"
   ]
  },
  {
   "cell_type": "markdown",
   "metadata": {},
   "source": [
    "The cell below contains experimental configuration settings in the form of a python dictionary."
   ]
  },
  {
   "cell_type": "code",
   "execution_count": null,
   "metadata": {},
   "outputs": [],
   "source": [
    "from Core.Experiment import Experiment"
   ]
  },
  {
   "cell_type": "code",
   "execution_count": 2,
   "metadata": {},
   "outputs": [
    {
     "name": "stdout",
     "output_type": "stream",
     "text": [
      "\n",
      "Generating 100 sets of 1000 using Middle_Square ...\n",
      "\n",
      "Generation Successful!\n",
      "\n",
      "Normalizing and shaping data for training...\n",
      "\n",
      "Training and testing sets were successfully generated with input and target data...\n",
      "\n",
      "x_train (100, 999, 1)\n",
      "y_train (100,)\n",
      "x_test (100, 999, 1)\n",
      "y_test (100,)\n",
      "\n",
      "Printing Model Summary...\n",
      "\n",
      "Model: \"sequential_1\"\n",
      "_________________________________________________________________\n",
      "Layer (type)                 Output Shape              Param #   \n",
      "=================================================================\n",
      "conv_1 (Conv1D)              (None, 997, 3)            12        \n",
      "_________________________________________________________________\n",
      "conv_2 (Conv1D)              (None, 996, 4)            28        \n",
      "_________________________________________________________________\n",
      "conv_3 (Conv1D)              (None, 987, 20)           820       \n",
      "_________________________________________________________________\n",
      "conv_4 (Conv1D)              (None, 983, 50)           5050      \n",
      "_________________________________________________________________\n",
      "maxpool_1 (MaxPooling1D)     (None, 983, 50)           0         \n",
      "_________________________________________________________________\n",
      "dropout_1 (Dropout)          (None, 983, 50)           0         \n",
      "_________________________________________________________________\n",
      "flatten_1 (Flatten)          (None, 49150)             0         \n",
      "_________________________________________________________________\n",
      "dense_1 (Dense)              (None, 4)                 196604    \n",
      "_________________________________________________________________\n",
      "dense_2 (Dense)              (None, 1)                 5         \n",
      "=================================================================\n",
      "Total params: 202,519\n",
      "Trainable params: 202,519\n",
      "Non-trainable params: 0\n",
      "_________________________________________________________________\n",
      "\n",
      "Initializing Training...\n",
      "\n",
      "Epoch 1/10\n",
      "100/100 [==============================] - 1s 14ms/step - loss: 0.0052\n",
      "Epoch 2/10\n",
      "100/100 [==============================] - 1s 7ms/step - loss: 0.0031\n",
      "Epoch 3/10\n",
      "100/100 [==============================] - 1s 5ms/step - loss: 0.0011\n",
      "Epoch 4/10\n",
      "100/100 [==============================] - 1s 5ms/step - loss: 5.0283e-04\n",
      "Epoch 5/10\n",
      "100/100 [==============================] - 1s 5ms/step - loss: 2.0459e-04\n",
      "Epoch 6/10\n",
      "100/100 [==============================] - 1s 5ms/step - loss: 5.7608e-05\n",
      "Epoch 7/10\n",
      "100/100 [==============================] - 1s 5ms/step - loss: 4.5474e-05\n",
      "Epoch 8/10\n",
      "100/100 [==============================] - 1s 6ms/step - loss: 3.1924e-05\n",
      "Epoch 9/10\n",
      "100/100 [==============================] - 1s 5ms/step - loss: 1.9027e-05\n",
      "Epoch 10/10\n",
      "100/100 [==============================] - 1s 5ms/step - loss: 1.2800e-05\n"
     ]
    },
    {
     "data": {
      "image/png": "[encoded data removed]",
      "text/plain": [
       "<Figure size 432x288 with 1 Axes>"
      ]
     },
     "metadata": {
      "needs_background": "light"
     },
     "output_type": "display_data"
    },
    {
     "name": "stdout",
     "output_type": "stream",
     "text": [
      "(100,)\n",
      "(100,)\n",
      "Pearson Correlation Coefficient: 0.9999999999999998\n",
      "2-tailed p-value:                 0.0\n"
     ]
    }
   ],
   "source": [
    "configuration = {\n",
    "    'SEED_METHOD' : 'ticks',  #using SEED_METHODS.py as source\n",
    "    'PRNG_METHOD' : 'Middle_Square', #using PRNG_METHODS.py as source\n",
    "    'NUM_SETS' : 100,    #generate NUM_SETS sets of length SET_LEN\n",
    "    'SET_LEN': 1000,\n",
    "    'IS_NEW_MODEL' : True,\n",
    "    'PATH' : 'foo', #if IS_NEW_MODEL, new files will be created / overidden at this location. If !IS_NEW_MODEL, previous model with weights will be loaded. File must be named\n",
    "    'BATCH_SIZE': 15,\n",
    "    'NUM_EPOCHS': 10\n",
    "}\n",
    "E = Experiment(configuration)\n",
    "E.perform()\n"
   ]
  },
  {
   "cell_type": "code",
   "execution_count": null,
   "metadata": {},
   "outputs": [],
   "source": []
  },
  {
   "cell_type": "code",
   "execution_count": 6,
   "metadata": {},
   "outputs": [
    {
     "name": "stdout",
     "output_type": "stream",
     "text": [
      "25322\n"
     ]
    }
   ],
   "source": [
    "from datetime import *\n",
    "\n",
    "def ticks():\n",
    "    return (datetime.utcnow() - datetime(2020, 4, 10)).total_seconds()\n",
    "\n",
    "print(int(ticks()))"
   ]
  },
  {
   "cell_type": "code",
   "execution_count": null,
   "metadata": {},
   "outputs": [],
   "source": []
  },
  {
   "cell_type": "code",
   "execution_count": null,
   "metadata": {},
   "outputs": [],
   "source": []
  },
  {
   "cell_type": "code",
   "execution_count": null,
   "metadata": {},
   "outputs": [],
   "source": []
  }
 ],
 "metadata": {
  "kernelspec": {
   "display_name": "Python 3",
   "language": "python",
   "name": "python3"
  },
  "language_info": {
   "codemirror_mode": {
    "name": "ipython",
    "version": 3
   },
   "file_extension": ".py",
   "mimetype": "text/x-python",
   "name": "python",
   "nbconvert_exporter": "python",
   "pygments_lexer": "ipython3",
   "version": "3.7.6"
  }
 },
 "nbformat": 4,
 "nbformat_minor": 4
}

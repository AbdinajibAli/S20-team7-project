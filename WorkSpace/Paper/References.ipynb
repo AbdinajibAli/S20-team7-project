{
 "cells": [
  {
   "cell_type": "raw",
   "metadata": {},
   "source": [
    "@electronic{msoftdocs,\n",
    " author   = \"Microsoft\",\n",
    " title     = \"DateTime.Ticks Property\",\n",
    " url       = \"https://docs.microsoft.com/en-us/dotnet/api/system.datetime.ticks?view=netframework-4.8\"\n",
    "}"
   ]
  },
  {
   "cell_type": "raw",
   "metadata": {},
   "source": [
    "@electronic{pseudoquote,\n",
    " author   = \"Afshari, Mehrdad\",\n",
    " title     = \"StackOverflow Comment\",\n",
    " url       = \"https://stackoverflow.com/questions/1785744/how-do-i-seed-a-random-class-to-avoid-getting-duplicate-random-values#comment2290983_1785752\"\n",
    "}"
   ]
  },
  {
   "cell_type": "raw",
   "metadata": {},
   "source": [
    "@electronic{tickport,\n",
    " author   = \"mhawke\",\n",
    " title     = \"StackOverflow Answer\",\n",
    " url       = \"https://stackoverflow.com/a/29368771\"\n",
    "}"
   ]
  },
  {
   "cell_type": "raw",
   "metadata": {},
   "source": [
    "@unpublished{b4,\n",
    "    author = \"K. Elissa\",\n",
    "    title = \"Title of paper if known\"\n",
    "}\n",
    "http://proceedings.mlr.press/v9/glorot10a/glorot10a.pdf"
   ]
  },
  {
   "cell_type": "raw",
   "metadata": {},
   "source": [
    "@article{b5,\n",
    "    author = \"R. Nicole\",\n",
    "    title = \"Title of paper with only first word capitalized\",\n",
    "    journal = \"J. Name Stand. Abbrev.\"\n",
    "}"
   ]
  },
  {
   "cell_type": "raw",
   "metadata": {},
   "source": [
    "@article{b6,\n",
    "  author = \"L\\^e D{\\~u}ng Trang and Bernard Teissier\",\n",
    "   title = \"Vari\\'et\\'es polaires locales et classes de {C}hern des\n",
    "            vari\\'et\\'es singuli\\`eres\",\n",
    " journal = \"Ann. of Math.\",\n",
    "  volume = 114,\n",
    "    year = 1981,\n",
    "   pages = \"457--491\"\n",
    "}   "
   ]
  },
  {
   "cell_type": "raw",
   "metadata": {},
   "source": [
    "@article{b7,\n",
    "  author = \"Dirk Siersma and Mihai Ti{\\u b}ar\",\n",
    "   title = \"Singularities at infinity and their vanishing cycles\",\n",
    " journal = \"Duke Math. J.\",\n",
    "  volume = 80,\n",
    "    year = 1995,\n",
    "   pages = \"771--783\"\n",
    "}"
   ]
  }
 ],
 "metadata": {
  "kernelspec": {
   "display_name": "Python 3",
   "language": "python",
   "name": "python3"
  },
  "language_info": {
   "codemirror_mode": {
    "name": "ipython",
    "version": 3
   },
   "file_extension": ".py",
   "mimetype": "text/x-python",
   "name": "python",
   "nbconvert_exporter": "python",
   "pygments_lexer": "ipython3",
   "version": "3.7.6"
  }
 },
 "nbformat": 4,
 "nbformat_minor": 4
}

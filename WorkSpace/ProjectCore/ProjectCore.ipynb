{
 "cells": [
  {
   "cell_type": "markdown",
   "metadata": {},
   "source": [
    "#### PRNG evolution analysis with prediction attacks"
   ]
  },
  {
   "cell_type": "code",
   "execution_count": 1,
   "metadata": {},
   "outputs": [
    {
     "name": "stderr",
     "output_type": "stream",
     "text": [
      "Using TensorFlow backend.\n"
     ]
    }
   ],
   "source": [
    "#Basic imports for now\n",
    "\n",
    "# NN-Tools\n",
    "import numpy as np \n",
    "import keras \n",
    "\n",
    "# Visualization\n",
    "from IPython.display import SVG \n",
    "from IPython.display import display\n",
    "from keras.utils.vis_utils import model_to_dot\n",
    "from keras.utils import plot_model\n",
    "\n",
    "# Printing\n",
    "from sympy import *\n",
    "init_printing(use_latex=True)\n",
    "\n",
    "# Plotting\n",
    "import matplotlib.pyplot as plt\n",
    "%matplotlib inline"
   ]
  },
  {
   "cell_type": "code",
   "execution_count": 2,
   "metadata": {},
   "outputs": [
    {
     "name": "stdout",
     "output_type": "stream",
     "text": [
      "6.372187614730441e+17\n",
      "Middle_Square\n",
      "--- 0.0013206005096435547 seconds ---\n",
      "['0477499732402667267408', '4446188487071255975538', '5649841651390958760618', '7921159802786785531399', '2851870528449667184148', '0397839639630605567875', '8614101043472233764849', '1494265818741800036774', '0601020020353296768219', '8654772615266560951939', '9679870792110314420686', '9503659414817932780352', '8575325326919721006303', '5108199532545297889910', '2959998763750488329802', '4044192252829448030209', '8457260991037835161535', '5302657524777098618183', '0751862458000585801659', '7506826485504727788075', '4752630797285044728050', '3022799151870900086890', '5514328882723034221250', '8334669023492847700985', '1712194621557910316761', '0918357280284446067103', '2514446330637266847703', '6552154732810635951613', '6928161972380126114795', '5340793703181470146291', '9428414382198546251408', '4483945885741705136601', '2599646158409601834303', '9338006338788667784123', '2573397780559764168614', '9899201379829624783041', '4207472343523633077138', '5162530291504327881410', '6997606100043081925874', '3601506945931565151370', '5933097506258761605470', '7739357081921834841054', '4936585710973482809290', '7875667514910072717831', '4098004752268228360083', '6129836925545486819848', '7809461261077424454278', '2689966736822079952362', '2092291490483047089395', '1477707290541899876729', '5206828968787447852189', '2041575997542089418210', '7399774981843223480752', '9128783942317951699155', '5220840952566512210155', '9956065974914446193747', '8491419460728483704143', '0384130038361941527619', '3719466696471307084591', '1591784256722889306576', '9508411705994370844739', '6907817844428639168569', '8067309307402558273035', '3039444544922584366789', '6596559768842036122754', '9052970458325163541665', '3081216375295255939681', '3876354974093950226669', '1829095329224378483031', '3904375115305614280452', '0177288078642395923761', '8287123616899169655807', '7679756356660685461480', '6702054806721516127710', '2989788991712160710656', '9632185865912632539940', '4870907281311300491573', '1314446230605176820795', '1521576815209856901275', '5841710159396077972627', '3913507140594173957863', '4815876533508619758425', '9990000068968671397103', '9940592707955742815734', '4628879776195348337031', '4702981091542165428927', '4031378021691141910375', '7743850552331308760268', '8419157562773404305023', '8046092508336442868801', '7078309561726998897830', '6358592202216297027060', '0858979832057823761549', '8820871139652797469356', '3596420355352991689655', '3973390207667729880154', '3898055828962376966064', '7075638675236362667945', '5005892943315168565480', '9326014446828620399467']\n",
      "asdf\n"
     ]
    }
   ],
   "source": [
    "from PRNGs import *\n",
    "from SeedGenerator import *\n",
    "import time\n",
    "\n",
    "\n",
    "t = ticks()\n",
    "\n",
    "print(t)\n",
    "start_time = time.time()\n",
    "numlist = Middle_Square(t,100)\n",
    "print(\"--- %s seconds ---\" % (time.time() - start_time))\n",
    "\n",
    "print(str(numlist))\n",
    "print(\"asdf\")\n"
   ]
  },
  {
   "cell_type": "code",
   "execution_count": 9,
   "metadata": {},
   "outputs": [
    {
     "name": "stdout",
     "output_type": "stream",
     "text": [
      "[477499732402667267408, 4446188487071255975538, 5649841651390958760618, 7921159802786785531399, 2851870528449667184148, 397839639630605567875, 8614101043472233764849, 1494265818741800036774, 601020020353296768219, 8654772615266560951939, 9679870792110314420686, 9503659414817932780352, 8575325326919721006303, 5108199532545297889910, 2959998763750488329802, 4044192252829448030209, 8457260991037835161535, 5302657524777098618183, 751862458000585801659, 7506826485504727788075, 4752630797285044728050, 3022799151870900086890, 5514328882723034221250, 8334669023492847700985, 1712194621557910316761, 918357280284446067103, 2514446330637266847703, 6552154732810635951613, 6928161972380126114795, 5340793703181470146291, 9428414382198546251408, 4483945885741705136601, 2599646158409601834303, 9338006338788667784123, 2573397780559764168614, 9899201379829624783041, 4207472343523633077138, 5162530291504327881410, 6997606100043081925874, 3601506945931565151370, 5933097506258761605470, 7739357081921834841054, 4936585710973482809290, 7875667514910072717831, 4098004752268228360083, 6129836925545486819848, 7809461261077424454278, 2689966736822079952362, 2092291490483047089395, 1477707290541899876729, 5206828968787447852189, 2041575997542089418210, 7399774981843223480752, 9128783942317951699155, 5220840952566512210155, 9956065974914446193747, 8491419460728483704143, 384130038361941527619, 3719466696471307084591, 1591784256722889306576, 9508411705994370844739, 6907817844428639168569, 8067309307402558273035, 3039444544922584366789, 6596559768842036122754, 9052970458325163541665, 3081216375295255939681, 3876354974093950226669, 1829095329224378483031, 3904375115305614280452, 177288078642395923761, 8287123616899169655807, 7679756356660685461480, 6702054806721516127710, 2989788991712160710656, 9632185865912632539940, 4870907281311300491573, 1314446230605176820795, 1521576815209856901275, 5841710159396077972627, 3913507140594173957863, 4815876533508619758425, 9990000068968671397103, 9940592707955742815734, 4628879776195348337031, 4702981091542165428927, 4031378021691141910375, 7743850552331308760268, 8419157562773404305023, 8046092508336442868801, 7078309561726998897830, 6358592202216297027060, 858979832057823761549, 8820871139652797469356, 3596420355352991689655, 3973390207667729880154, 3898055828962376966064, 7075638675236362667945]\n",
      "[9326014446828620399467]\n",
      "(98, 1)\n",
      "(1,)\n"
     ]
    }
   ],
   "source": [
    "# break input data into two lists:\n",
    "\n",
    "length = len(numlist) - 1\n",
    "\n",
    "# n-1. This is our input data.\n",
    "x = []\n",
    "for i in range(length - 1):\n",
    "     x.append(int(numlist[i]))\n",
    "\n",
    "\n",
    "# n. This is our target data.\n",
    "y = []\n",
    "y.append(int(numlist[length]))\n",
    "\n",
    "print(x)\n",
    "print(y)\n",
    "\n",
    "\n",
    "\n",
    "\n",
    "x = np.array(x)\n",
    "x = np.expand_dims(x, axis=1)\n",
    "#.reshape(x.shape+(1,))\n",
    "\n",
    "\n",
    "print(x.shape)\n",
    "\n",
    "y = np.array(y)\n",
    "print(y.shape)"
   ]
  },
  {
   "cell_type": "code",
   "execution_count": 10,
   "metadata": {},
   "outputs": [
    {
     "name": "stdout",
     "output_type": "stream",
     "text": [
      "Model: \"sequential_4\"\n",
      "_________________________________________________________________\n",
      "Layer (type)                 Output Shape              Param #   \n",
      "=================================================================\n",
      "conv1d_7 (Conv1D)            (None, 97, 98)            490       \n",
      "_________________________________________________________________\n",
      "conv1d_8 (Conv1D)            (None, 96, 64)            12608     \n",
      "_________________________________________________________________\n",
      "conv1d_9 (Conv1D)            (None, 95, 64)            8256      \n",
      "_________________________________________________________________\n",
      "conv1d_10 (Conv1D)           (None, 94, 64)            8256      \n",
      "_________________________________________________________________\n",
      "max_pooling1d_2 (MaxPooling1 (None, 23, 64)            0         \n",
      "_________________________________________________________________\n",
      "dropout_3 (Dropout)          (None, 23, 64)            0         \n",
      "_________________________________________________________________\n",
      "flatten_2 (Flatten)          (None, 1472)              0         \n",
      "_________________________________________________________________\n",
      "dense_3 (Dense)              (None, 4)                 5892      \n",
      "_________________________________________________________________\n",
      "dropout_4 (Dropout)          (None, 4)                 0         \n",
      "_________________________________________________________________\n",
      "dense_4 (Dense)              (None, 1)                 5         \n",
      "=================================================================\n",
      "Total params: 35,507\n",
      "Trainable params: 35,507\n",
      "Non-trainable params: 0\n",
      "_________________________________________________________________\n"
     ]
    }
   ],
   "source": [
    "#initially using fewer kernels and increasing gradually while monitoring the error rate on how it is varying\n",
    "model = keras.Sequential()\n",
    "model.add(keras.layers.Conv1D(98, kernel_size=2,\n",
    "                                activation='relu',\n",
    "                                input_shape=(98,2)\n",
    "                             )\n",
    "         )\n",
    "        \n",
    "        \n",
    "#data work in progress\n",
    "          \n",
    "model.add(keras.layers.Conv1D(64, 2, activation='relu'))\n",
    "model.add(keras.layers.Conv1D(64, 2, activation='relu'))\n",
    "model.add(keras.layers.Conv1D(64, 2, activation='relu'))\n",
    "\n",
    "#test pool size and monitor what works better\n",
    "\n",
    "model.add(keras.layers.MaxPooling1D(pool_size=(4)))\n",
    "model.add(keras.layers.Dropout(0.25))\n",
    "model.add(keras.layers.Flatten())\n",
    "model.add(keras.layers.Dense(4, activation='relu'))\n",
    "model.add(keras.layers.Dropout(0.5))\n",
    "          \n",
    "          \n",
    "model.add(keras.layers.Dense(1, activation='softmax'))\n",
    "          \n",
    "    #data work in progress\n",
    "          \n",
    "model.compile(loss=keras.losses.categorical_crossentropy,\n",
    "    optimizer=keras.optimizers.Adam(),\n",
    "    metrics=['accuracy'])\n",
    "          \n",
    "model.summary()\n",
    "          \n",
    "          \n",
    "          \n"
   ]
  },
  {
   "cell_type": "code",
   "execution_count": 11,
   "metadata": {},
   "outputs": [
    {
     "ename": "ValueError",
     "evalue": "Error when checking input: expected conv1d_7_input to have 3 dimensions, but got array with shape (98, 1)",
     "output_type": "error",
     "traceback": [
      "\u001b[0;31m---------------------------------------------------------------------------\u001b[0m",
      "\u001b[0;31mValueError\u001b[0m                                Traceback (most recent call last)",
      "\u001b[0;32m<ipython-input-11-562d7fecb400>\u001b[0m in \u001b[0;36m<module>\u001b[0;34m\u001b[0m\n\u001b[1;32m      1\u001b[0m \u001b[0mbatch_size\u001b[0m\u001b[0;34m=\u001b[0m\u001b[0;36m512\u001b[0m\u001b[0;34m\u001b[0m\u001b[0;34m\u001b[0m\u001b[0m\n\u001b[1;32m      2\u001b[0m \u001b[0mepochs\u001b[0m\u001b[0;34m=\u001b[0m\u001b[0;36m5\u001b[0m\u001b[0;34m\u001b[0m\u001b[0;34m\u001b[0m\u001b[0m\n\u001b[0;32m----> 3\u001b[0;31m \u001b[0mhistory\u001b[0m\u001b[0;34m=\u001b[0m\u001b[0mmodel\u001b[0m\u001b[0;34m.\u001b[0m\u001b[0mfit\u001b[0m\u001b[0;34m(\u001b[0m\u001b[0mx\u001b[0m\u001b[0;34m,\u001b[0m\u001b[0my\u001b[0m\u001b[0;34m,\u001b[0m\u001b[0mbatch_size\u001b[0m\u001b[0;34m=\u001b[0m\u001b[0mbatch_size\u001b[0m\u001b[0;34m,\u001b[0m\u001b[0mepochs\u001b[0m\u001b[0;34m=\u001b[0m\u001b[0mepochs\u001b[0m\u001b[0;34m,\u001b[0m\u001b[0mverbose\u001b[0m\u001b[0;34m=\u001b[0m\u001b[0;36m1\u001b[0m\u001b[0;34m,\u001b[0m\u001b[0mvalidation_split\u001b[0m\u001b[0;34m=\u001b[0m\u001b[0;36m0.2\u001b[0m\u001b[0;34m)\u001b[0m\u001b[0;34m\u001b[0m\u001b[0;34m\u001b[0m\u001b[0m\n\u001b[0m",
      "\u001b[0;32m/opt/conda/lib/python3.7/site-packages/keras/engine/training.py\u001b[0m in \u001b[0;36mfit\u001b[0;34m(self, x, y, batch_size, epochs, verbose, callbacks, validation_split, validation_data, shuffle, class_weight, sample_weight, initial_epoch, steps_per_epoch, validation_steps, validation_freq, max_queue_size, workers, use_multiprocessing, **kwargs)\u001b[0m\n\u001b[1;32m   1152\u001b[0m             \u001b[0msample_weight\u001b[0m\u001b[0;34m=\u001b[0m\u001b[0msample_weight\u001b[0m\u001b[0;34m,\u001b[0m\u001b[0;34m\u001b[0m\u001b[0;34m\u001b[0m\u001b[0m\n\u001b[1;32m   1153\u001b[0m             \u001b[0mclass_weight\u001b[0m\u001b[0;34m=\u001b[0m\u001b[0mclass_weight\u001b[0m\u001b[0;34m,\u001b[0m\u001b[0;34m\u001b[0m\u001b[0;34m\u001b[0m\u001b[0m\n\u001b[0;32m-> 1154\u001b[0;31m             batch_size=batch_size)\n\u001b[0m\u001b[1;32m   1155\u001b[0m \u001b[0;34m\u001b[0m\u001b[0m\n\u001b[1;32m   1156\u001b[0m         \u001b[0;31m# Prepare validation data.\u001b[0m\u001b[0;34m\u001b[0m\u001b[0;34m\u001b[0m\u001b[0;34m\u001b[0m\u001b[0m\n",
      "\u001b[0;32m/opt/conda/lib/python3.7/site-packages/keras/engine/training.py\u001b[0m in \u001b[0;36m_standardize_user_data\u001b[0;34m(self, x, y, sample_weight, class_weight, check_array_lengths, batch_size)\u001b[0m\n\u001b[1;32m    577\u001b[0m             \u001b[0mfeed_input_shapes\u001b[0m\u001b[0;34m,\u001b[0m\u001b[0;34m\u001b[0m\u001b[0;34m\u001b[0m\u001b[0m\n\u001b[1;32m    578\u001b[0m             \u001b[0mcheck_batch_axis\u001b[0m\u001b[0;34m=\u001b[0m\u001b[0;32mFalse\u001b[0m\u001b[0;34m,\u001b[0m  \u001b[0;31m# Don't enforce the batch size.\u001b[0m\u001b[0;34m\u001b[0m\u001b[0;34m\u001b[0m\u001b[0m\n\u001b[0;32m--> 579\u001b[0;31m             exception_prefix='input')\n\u001b[0m\u001b[1;32m    580\u001b[0m \u001b[0;34m\u001b[0m\u001b[0m\n\u001b[1;32m    581\u001b[0m         \u001b[0;32mif\u001b[0m \u001b[0my\u001b[0m \u001b[0;32mis\u001b[0m \u001b[0;32mnot\u001b[0m \u001b[0;32mNone\u001b[0m\u001b[0;34m:\u001b[0m\u001b[0;34m\u001b[0m\u001b[0;34m\u001b[0m\u001b[0m\n",
      "\u001b[0;32m/opt/conda/lib/python3.7/site-packages/keras/engine/training_utils.py\u001b[0m in \u001b[0;36mstandardize_input_data\u001b[0;34m(data, names, shapes, check_batch_axis, exception_prefix)\u001b[0m\n\u001b[1;32m    133\u001b[0m                         \u001b[0;34m': expected '\u001b[0m \u001b[0;34m+\u001b[0m \u001b[0mnames\u001b[0m\u001b[0;34m[\u001b[0m\u001b[0mi\u001b[0m\u001b[0;34m]\u001b[0m \u001b[0;34m+\u001b[0m \u001b[0;34m' to have '\u001b[0m \u001b[0;34m+\u001b[0m\u001b[0;34m\u001b[0m\u001b[0;34m\u001b[0m\u001b[0m\n\u001b[1;32m    134\u001b[0m                         \u001b[0mstr\u001b[0m\u001b[0;34m(\u001b[0m\u001b[0mlen\u001b[0m\u001b[0;34m(\u001b[0m\u001b[0mshape\u001b[0m\u001b[0;34m)\u001b[0m\u001b[0;34m)\u001b[0m \u001b[0;34m+\u001b[0m \u001b[0;34m' dimensions, but got array '\u001b[0m\u001b[0;34m\u001b[0m\u001b[0;34m\u001b[0m\u001b[0m\n\u001b[0;32m--> 135\u001b[0;31m                         'with shape ' + str(data_shape))\n\u001b[0m\u001b[1;32m    136\u001b[0m                 \u001b[0;32mif\u001b[0m \u001b[0;32mnot\u001b[0m \u001b[0mcheck_batch_axis\u001b[0m\u001b[0;34m:\u001b[0m\u001b[0;34m\u001b[0m\u001b[0;34m\u001b[0m\u001b[0m\n\u001b[1;32m    137\u001b[0m                     \u001b[0mdata_shape\u001b[0m \u001b[0;34m=\u001b[0m \u001b[0mdata_shape\u001b[0m\u001b[0;34m[\u001b[0m\u001b[0;36m1\u001b[0m\u001b[0;34m:\u001b[0m\u001b[0;34m]\u001b[0m\u001b[0;34m\u001b[0m\u001b[0;34m\u001b[0m\u001b[0m\n",
      "\u001b[0;31mValueError\u001b[0m: Error when checking input: expected conv1d_7_input to have 3 dimensions, but got array with shape (98, 1)"
     ]
    }
   ],
   "source": [
    "batch_size=512\n",
    "epochs=5\n",
    "history=model.fit(x,y,batch_size=batch_size,epochs=epochs,verbose=1,validation_split=0.2)"
   ]
  },
  {
   "cell_type": "code",
   "execution_count": null,
   "metadata": {},
   "outputs": [],
   "source": [
    "plt.figure(1)\n",
    "# summarize history for accuracy\n",
    "plt.subplot(211)\n",
    "plt.plot(history.history['accuracy'])\n",
    "plt.plot(history.history['val_accuracy'])\n",
    "plt.title('model accuracy')\n",
    "plt.ylabel('accuracy')\n",
    "plt.xlabel('epoch')\n",
    "plt.legend(['train','val'],loc='upper left')\n",
    "# summarize history for loss  \n",
    "plt.subplot(212)\n",
    "plt.plot(history.history['loss'])\n",
    "plt.plot(history.history['val_loss'])\n",
    "plt.title('model loss')\n",
    "plt.ylabel('loss')\n",
    "plt.xlabel('epoch')\n",
    "plt.legend(['train','val'],loc='upper left')\n",
    "plt.tight_layout()\n",
    "plt.show()"
   ]
  },
  {
   "cell_type": "code",
   "execution_count": null,
   "metadata": {},
   "outputs": [],
   "source": []
  }
 ],
 "metadata": {
  "kernelspec": {
   "display_name": "Python 3",
   "language": "python",
   "name": "python3"
  },
  "language_info": {
   "codemirror_mode": {
    "name": "ipython",
    "version": 3
   },
   "file_extension": ".py",
   "mimetype": "text/x-python",
   "name": "python",
   "nbconvert_exporter": "python",
   "pygments_lexer": "ipython3",
   "version": "3.7.6"
  }
 },
 "nbformat": 4,
 "nbformat_minor": 4
}

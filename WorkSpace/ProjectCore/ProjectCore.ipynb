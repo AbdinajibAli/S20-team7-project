{
 "cells": [
  {
   "cell_type": "markdown",
   "metadata": {},
   "source": [
    "#### PRNG evolution analysis with prediction attacks"
   ]
  },
  {
   "cell_type": "code",
   "execution_count": 1,
   "metadata": {},
   "outputs": [
    {
     "name": "stderr",
     "output_type": "stream",
     "text": [
      "Using TensorFlow backend.\n"
     ]
    }
   ],
   "source": [
    "#Basic imports for now\n",
    "\n",
    "# NN-Tools\n",
    "import numpy as np \n",
    "import keras \n",
    "\n",
    "# Visualization\n",
    "from IPython.display import SVG \n",
    "from IPython.display import display\n",
    "from keras.utils.vis_utils import model_to_dot\n",
    "from keras.utils import plot_model\n",
    "\n",
    "# Printing\n",
    "from sympy import *\n",
    "init_printing(use_latex=True)\n",
    "\n",
    "# Plotting\n",
    "import matplotlib.pyplot as plt\n",
    "%matplotlib inline"
   ]
  },
  {
   "cell_type": "code",
   "execution_count": 2,
   "metadata": {},
   "outputs": [
    {
     "name": "stdout",
     "output_type": "stream",
     "text": [
      "6.372157308815026e+17\n",
      "Wichmann_Hill\n",
      "--- 0.0012288093566894531 seconds ---\n",
      "[0.052581365633496135, 0.686402943454218, 0.5436280635984436, 0.17361304169584635, 0.09588423592816064, 0.5684841495291457, 0.6284255187729024, 0.8307363754623818, 0.9114145258950535, 0.4302087367750902, 0.6988083266067302, 0.8039204690734747, 0.4393989612812099, 0.4856457896714883, 0.6827947277842097, 0.8360982918067834, 0.17350203865787117, 0.7429021166231795, 0.06591627105119358, 0.08894353330380556, 0.6201039954159118, 0.8006279832882552, 0.18372991253458482, 0.34673449429908976, 0.6609688242756624, 0.7455673733306201, 0.3097346295924832, 0.7928729550946201, 0.891996885592854, 0.7303830978472812, 0.4261225231626897, 0.04258471692037391, 0.23054322215327172, 0.31284965053297586, 0.06732754066151436, 0.07447955004319606, 0.8681381638732781, 0.25619837492708264, 0.3431530269824046, 0.34855043402619046, 0.859110114682238, 0.04334828824718384, 0.4923400290472415, 0.9097090581710776, 0.8038862088556527, 0.7344616288572057, 0.9520200832975262, 0.14302273748605665, 0.7876684871828636, 0.33064713569377924, 0.17528773840502, 0.8372262771346786, 0.8104461288195448, 0.2989159115967854, 0.26327481963425337, 0.6203282561301243, 0.7492878295656307, 0.5785363723892357, 0.8559547461449764, 0.8564673803498826, 0.30892586428067115, 0.41634405100219674, 0.15027636296130042, 0.23737011116366036, 0.13652835968757016, 0.2840180416168401, 0.2111095847457456, 0.9281425008048849, 0.7509157120007606, 0.07141676713809142, 0.4384378680534371, 0.6936117066673787, 0.8685052785308593, 0.41485751831085227, 0.0796687689672928, 0.8717226537734553, 0.6758250312127503, 0.4751939203469022, 0.18886652062867837, 0.11650941190067643, 0.6298970400154275, 0.8563549936537781, 0.20184736850155094, 0.7709054826984065, 0.24212156765311632, 0.7540134317711478, 0.6704441733990536, 0.8947274137204095, 0.6107773368264531, 0.7353496140205276, 0.48250949908986707, 0.3037576628627776, 0.613489086106449, 0.2860288235634991, 0.7077954600123929, 0.04870603878676105, 0.3118251274377428, 0.9870362879195751, 0.5679619648359269, 0.6774328916562984]\n"
     ]
    }
   ],
   "source": [
    "from PRNGs import *\n",
    "from SeedGenerator import *\n",
    "import time\n",
    "\n",
    "\n",
    "t = ticks()\n",
    "\n",
    "print(t)\n",
    "start_time = time.time()\n",
    "ls = Wichmann_Hill(35000, 40000, 50000, 100)\n",
    "print(\"--- %s seconds ---\" % (time.time() - start_time))\n",
    "\n",
    "print(str(ls))\n",
    "#print(\"asdf\")\n"
   ]
  },
  {
   "cell_type": "code",
   "execution_count": null,
   "metadata": {},
   "outputs": [],
   "source": []
  },
  {
   "cell_type": "code",
   "execution_count": null,
   "metadata": {},
   "outputs": [],
   "source": [
    "\n"
   ]
  },
  {
   "cell_type": "code",
   "execution_count": null,
   "metadata": {},
   "outputs": [],
   "source": [
    "#initially using fewer kernels and increasing gradually while monitoring the error rate on how it is varying\n",
    "model = keras.Sequential()\n",
    "model.add(keras.layers.Conv1D(64, kernel_size=2,\n",
    "    activation='relu',\n",
    "    input_shape=()) \n",
    "        \n",
    "    #data work in progress\n",
    "          \n",
    "model.add(keras.layers.Conv1D(64, 2, activation='relu'))\n",
    "model.add(keras.layers.Conv1D(64, 2, activation='relu'))\n",
    "model.add(keras.layers.Conv1D(64, 2, activation='relu'))\n",
    "\n",
    "#test pool size and monitor what works better\n",
    "\n",
    "model.add(keras.layers.MaxPooling1D(pool_size=(4)))\n",
    "model.add(keras.layers.Dropout(0.25))\n",
    "model.add(keras.layers.Flatten())\n",
    "model.add(keras.layers.Dense(4, activation='relu'))\n",
    "model.add(keras.layers.Dropout(0.5))\n",
    "          \n",
    "          \n",
    "model.add(keras.layers.Dense(1, activation='softmax'))\n",
    "          \n",
    "    #data work in progress\n",
    "          \n",
    "model.compile(loss=keras.losses.categorical_crossentropy,\n",
    "    optimizer=keras.optimizers.Adam(),\n",
    "    metrics=['accuracy'])\n",
    "          \n",
    "model.summary()"
   ]
  },
  {
   "cell_type": "code",
   "execution_count": null,
   "metadata": {},
   "outputs": [],
   "source": []
  }
 ],
 "metadata": {
  "kernelspec": {
   "display_name": "Python 3",
   "language": "python",
   "name": "python3"
  },
  "language_info": {
   "codemirror_mode": {
    "name": "ipython",
    "version": 3
   },
   "file_extension": ".py",
   "mimetype": "text/x-python",
   "name": "python",
   "nbconvert_exporter": "python",
   "pygments_lexer": "ipython3",
   "version": "3.7.6"
  }
 },
 "nbformat": 4,
 "nbformat_minor": 4
}

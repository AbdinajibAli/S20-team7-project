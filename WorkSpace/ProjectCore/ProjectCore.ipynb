{
 "cells": [
  {
   "cell_type": "markdown",
   "metadata": {},
   "source": [
    "#### PRNG evolution analysis with prediction attacks"
   ]
  },
  {
   "cell_type": "code",
   "execution_count": 1,
   "metadata": {},
   "outputs": [
    {
     "name": "stderr",
     "output_type": "stream",
     "text": [
      "Using TensorFlow backend.\n"
     ]
    }
   ],
   "source": [
    "#Basic imports for now\n",
    "\n",
    "# NN-Tools\n",
    "import numpy as np \n",
    "import keras \n",
    "\n",
    "# Visualization\n",
    "from IPython.display import SVG \n",
    "from IPython.display import display\n",
    "from keras.utils.vis_utils import model_to_dot\n",
    "from keras.utils import plot_model\n",
    "\n",
    "# Printing\n",
    "from sympy import *\n",
    "init_printing(use_latex=True)\n",
    "\n",
    "# Plotting\n",
    "import matplotlib.pyplot as plt\n",
    "%matplotlib inline"
   ]
  },
  {
   "cell_type": "code",
   "execution_count": 2,
   "metadata": {},
   "outputs": [
    {
     "name": "stdout",
     "output_type": "stream",
     "text": [
      "#1: 5227\n",
      "#2: 3215\n",
      "#3: 3362\n",
      "#4: 3030\n",
      "#5: 1809\n",
      "#6: 2724\n",
      "#7: 4201\n",
      "#8: 6484\n",
      "#9: 422\n",
      "#10: 1780\n",
      "#11: 1684\n",
      "#12: 8358\n",
      "#13: 8561\n",
      "#14: 2907\n",
      "#15: 4506\n",
      "#16: 3040\n",
      "#17: 2416\n",
      "#18: 8370\n",
      "#19: 569\n",
      "#20: 3237\n",
      "#21: 4781\n",
      "#22: 8579\n",
      "#23: 5992\n",
      "#24: 9040\n",
      "#25: 7216\n",
      "#26: 706\n",
      "#27: 4984\n",
      "#28: 8402\n",
      "#29: 5936\n",
      "#30: 2360\n",
      "#31: 5696\n",
      "#32: 4444\n",
      "#33: 7491\n",
      "#34: 1150\n",
      "#35: 3225\n",
      "#36: 4006\n",
      "#37: 480\n",
      "#38: 2304\n",
      "#39: 3084\n",
      "#40: 5110\n",
      "#41: 1121\n",
      "#42: 2566\n",
      "#43: 5843\n",
      "#44: 1406\n",
      "#45: 9768\n",
      "#46: 4138\n",
      "#47: 1230\n",
      "#48: 5129\n",
      "#49: 3066\n",
      "#50: 4003\n",
      "#51: 240\n",
      "#52: 576\n",
      "#53: 3317\n",
      "#54: 24\n",
      "#55: 5\n",
      "#56: 0\n",
      "#57: 0\n",
      "We began with 1234, and have repeated ourselves after 57 steps with 0.\n"
     ]
    }
   ],
   "source": [
    "# As we get to each PRNG example, we can import like this\n",
    "from PRNGs import *\n",
    "\n",
    "midsquare(1234, 10)"
   ]
  },
  {
   "cell_type": "code",
   "execution_count": null,
   "metadata": {},
   "outputs": [],
   "source": []
  }
 ],
 "metadata": {
  "kernelspec": {
   "display_name": "Python 3",
   "language": "python",
   "name": "python3"
  },
  "language_info": {
   "codemirror_mode": {
    "name": "ipython",
    "version": 3
   },
   "file_extension": ".py",
   "mimetype": "text/x-python",
   "name": "python",
   "nbconvert_exporter": "python",
   "pygments_lexer": "ipython3",
   "version": "3.7.6"
  }
 },
 "nbformat": 4,
 "nbformat_minor": 4
}

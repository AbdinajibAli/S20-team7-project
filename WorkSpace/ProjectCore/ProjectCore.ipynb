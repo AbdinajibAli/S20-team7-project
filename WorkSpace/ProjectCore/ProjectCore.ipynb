{
 "cells": [
  {
   "cell_type": "markdown",
   "metadata": {},
   "source": [
    "#### PRNG evolution analysis with prediction attacks"
   ]
  },
  {
   "cell_type": "markdown",
   "metadata": {},
   "source": [
    "The cell below contains experimental configuration settings in the form of a python dictionary."
   ]
  },
  {
   "cell_type": "code",
   "execution_count": 1,
   "metadata": {},
   "outputs": [
    {
     "name": "stderr",
     "output_type": "stream",
     "text": [
      "Using TensorFlow backend.\n"
     ]
    }
   ],
   "source": [
    "from Core.Experiment import Experiment"
   ]
  },
  {
   "cell_type": "code",
   "execution_count": 7,
   "metadata": {},
   "outputs": [
    {
     "name": "stdout",
     "output_type": "stream",
     "text": [
      "Prng defs:  {'Middle_Square': '1946', 'Linear_Congruential': '1958', 'Lagged_Fibonacci': '1958', 'Wichmann_Hill': '1982', 'Park_Miller': '1988', 'Maximally_Periodic_Reciprocals': '1992', 'Mersenne_Twister': '1998'}\n",
      "\n",
      "**********PRNG_METHOD: Mersenne_Twister running**********\n",
      "using validation split\n"
     ]
    },
    {
     "data": {
      "image/png": "[encoded data removed]",
      "text/plain": [
       "<Figure size 432x288 with 1 Axes>"
      ]
     },
     "metadata": {
      "needs_background": "light"
     },
     "output_type": "display_data"
    },
    {
     "name": "stdout",
     "output_type": "stream",
     "text": [
      "********** Mersenne_Twister finished**********\n"
     ]
    }
   ],
   "source": [
    "from Core.PrngMethods import Get_Defs\n",
    "\n",
    "defs = Get_Defs()\n",
    "\n",
    "print('Prng defs: ',defs)\n",
    "\n",
    "#for key, val in defs.items():    \n",
    "\n",
    "configuration = {\n",
    "        'VERBOSE' : 0,\n",
    "        'IS_NEW_MODEL' : True,\n",
    "        'PATH' : './Mersenne_Twister/',\n",
    "        'SEED_METHOD' : 'ticks',               \n",
    "        'PRNG_METHOD' : 'Mersenne_Twister',       \n",
    "        'NUM_SETS' : 1000,                     \n",
    "        'SET_LEN': 1000,                                               \n",
    "        'BATCH_SIZE': 15,\n",
    "        'NUM_EPOCHS': 2,\n",
    "        \n",
    "        'CHKPNT_MONITOR' : 'mae',\n",
    "        'CHKPNT_MODE' : 'min',\n",
    "        'LOUD_LOGGING': False,\n",
    "        \n",
    "        'USE_VALIDATION' : True ,\n",
    "        'VALIDATION_SPLIT' :  0.2,\n",
    "    \n",
    "        'OVERRIDE_LOAD_COMPILATION' : False,\n",
    "        'LR': .001,\n",
    "        'LOSS_METHOD':'mean_squared_error'\n",
    "    }  \n",
    "\n",
    "E = Experiment(configuration)\n",
    "E.perform()"
   ]
  },
  {
   "cell_type": "code",
   "execution_count": null,
   "metadata": {},
   "outputs": [],
   "source": []
  },
  {
   "cell_type": "code",
   "execution_count": null,
   "metadata": {},
   "outputs": [],
   "source": []
  },
  {
   "cell_type": "code",
   "execution_count": null,
   "metadata": {},
   "outputs": [],
   "source": []
  },
  {
   "cell_type": "code",
   "execution_count": null,
   "metadata": {},
   "outputs": [],
   "source": []
  },
  {
   "cell_type": "code",
   "execution_count": 31,
   "metadata": {},
   "outputs": [
    {
     "name": "stdout",
     "output_type": "stream",
     "text": [
      "862656\n"
     ]
    }
   ],
   "source": [
    "#Seed generator tests.\n",
    "\n",
    "from datetime import *\n",
    "\n",
    "def ticks():\n",
    "    return  str( int( (datetime.utcnow() - datetime(1, 1, 1)).total_seconds() * 10000000 ))[-6:]\n",
    "\n",
    "print(int(ticks()))"
   ]
  },
  {
   "cell_type": "code",
   "execution_count": null,
   "metadata": {},
   "outputs": [],
   "source": []
  },
  {
   "cell_type": "code",
   "execution_count": null,
   "metadata": {},
   "outputs": [],
   "source": []
  },
  {
   "cell_type": "code",
   "execution_count": null,
   "metadata": {},
   "outputs": [],
   "source": []
  }
 ],
 "metadata": {
  "kernelspec": {
   "display_name": "Python 3",
   "language": "python",
   "name": "python3"
  },
  "language_info": {
   "codemirror_mode": {
    "name": "ipython",
    "version": 3
   },
   "file_extension": ".py",
   "mimetype": "text/x-python",
   "name": "python",
   "nbconvert_exporter": "python",
   "pygments_lexer": "ipython3",
   "version": "3.7.6"
  }
 },
 "nbformat": 4,
 "nbformat_minor": 4
}

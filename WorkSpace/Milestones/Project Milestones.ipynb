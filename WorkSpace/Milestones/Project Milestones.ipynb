{
 "cells": [
  {
   "cell_type": "markdown",
   "metadata": {},
   "source": [
    "# Milestone 1 - Team 7 \n",
    "### Due March 24th 2020\n",
    "Spencer Arnold <br/>\n",
    "Ryan Hines <br/>\n",
    "Matthew Hawks <br/>\n",
    "Jacob Anderson <br/>\n",
    "Tae Kweon <br/>\n",
    "Ali Najib <br/>"
   ]
  },
  {
   "cell_type": "markdown",
   "metadata": {},
   "source": [
    "## Deliverable Tracking"
   ]
  },
  {
   "cell_type": "markdown",
   "metadata": {},
   "source": [
    "<div style=\"display: block; float:left;\"/>\n",
    "    <h3>Progress and Projections</h3>\n",
    "    \n",
    "| Deliverable | Percent Complete | Percent Complete By Next Milestone | Estimated Completion Date   | \n",
    "|-------------|:-----:|:------------------------------------------|-------------------------|\n",
    "| Code        |  15%  | 40% | Apr 14 |\n",
    "| Paper       |  0%   | 10% | Apr 22 |\n",
    "| Demo        |  0%   | 0%  | May 1  |\n",
    "| Presentation|  0%   | 0%  | May 5  |"
   ]
  },
  {
   "cell_type": "markdown",
   "metadata": {},
   "source": [
    "### **1. What deliverable goals established in the last milestone report were accomplished to the anticipated percentage?**\n",
    "\n",
    "   At the beginning of this project, we established some preliminary goals to get kickstarted. Some of these goals are inferred.\n",
    "  \n",
    "   Those goals were:\n",
    "    \n",
    "   - [X] Get group member communication channels flowing.\n",
    "   - [X] Finish project proposal.\n",
    "   - [X] Amend the project proposal and discuss said amendments.\n",
    "   - [X] Get repo set up with initial files/Workspace. \n",
    "   - [X] Implement some of the PRNG code / ProjectCore code.\n",
    "   - [X] Discuss architecture group assignments in depth\n",
    "   - [X] Create Tasks and divide into those tasks for the meat of the project developement.\n",
    "   \n",
    "We were able to accomplish all of these low-level initial goals to 100% completion.\n",
    "\n",
    "\n",
    "### **2. What deliverable goals established in the last milestone report were were not accomplished to the anticipated percentage?**\n",
    "\n",
    "None\n",
    "\n",
    "### **3. What are the main deliverable goals to meet before the next milestone report, and who is working on them?**\n",
    "\n",
    "   Goals for next milestone:\n",
    "   \n",
    "  - [ ] Task 1: Creating PRNG implementations. **[Expecting > 50% completion by next milestone]**\n",
    "    * Najib Ali\n",
    "    * Jacob Anderson\n",
    "  - [ ] Task 2: Setting up predictive network / core program flow. **[Expecting > 50% completion by next milestone]**\n",
    "    * Ryan Hines\n",
    "    * Tae Kweon\n",
    "  - [ ] Task 3: Figuring out a method of logging (aggregate data to later use in our research paper as we start our trials) **[Expecting > 50% completion by next milestone]**\n",
    "    * Matthew Hawks\n",
    "  - [ ] Task 4: Designing the experiment. **[Expecting > 50% completion by next milestone]**\n",
    "    * Spencer Arnold\n",
    "   \n",
    "   \n",
    "  **NOTE: It has been discussed among this team that there will be pretty heavy coordination between tasks. Different people are also assisting with other tasks, including the their individual role to balance the load in tasks that are more rigorous.**\n",
    " \n",
    " \n",
    "We have abstracted a lot of the details associated with each of these tasks (for the sake of being concise as per the rubric). These details are actively being discussed in the slack and among smaller chats. \n",
    "\n",
    "## Rubric\n",
    "- [X] Does your report have the necessary table, filled with the correct information? (4 points)\n",
    "- [X] Does your report answer the questions above clearly and concisely? (4 points)\n",
    "- [X] Does each team member have a role to play in helping to meet the goals of the next milestone? (4 points)"
   ]
  },
  {
   "cell_type": "markdown",
   "metadata": {},
   "source": [
    "# Move to root of repo once finished"
   ]
  },
  {
   "cell_type": "code",
   "execution_count": null,
   "metadata": {},
   "outputs": [],
   "source": []
  }
 ],
 "metadata": {
  "kernelspec": {
   "display_name": "Python 3",
   "language": "python",
   "name": "python3"
  },
  "language_info": {
   "codemirror_mode": {
    "name": "ipython",
    "version": 3
   },
   "file_extension": ".py",
   "mimetype": "text/x-python",
   "name": "python",
   "nbconvert_exporter": "python",
   "pygments_lexer": "ipython3",
   "version": "3.7.6"
  }
 },
 "nbformat": 4,
 "nbformat_minor": 4
}

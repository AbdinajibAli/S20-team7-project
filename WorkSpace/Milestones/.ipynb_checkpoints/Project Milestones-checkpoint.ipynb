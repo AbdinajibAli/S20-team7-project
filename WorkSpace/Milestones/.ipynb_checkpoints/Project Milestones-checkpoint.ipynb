{
 "cells": [
  {
   "cell_type": "markdown",
   "metadata": {},
   "source": [
    "# Milestone 1 - Team 7 \n",
    "### Due March 24th 2020\n",
    "Spencer Arnold <br/>\n",
    "Ryan Hines <br/>\n",
    "Matthew Hawks <br/>\n",
    "Jacob Anderson <br/>\n",
    "Tae Kweon <br/>\n",
    "Ali Najib <br/>"
   ]
  },
  {
   "cell_type": "markdown",
   "metadata": {},
   "source": [
    "## Deliverable Tracking"
   ]
  },
  {
   "cell_type": "markdown",
   "metadata": {},
   "source": [
    "<div style=\"display: block; float:left;\">\n",
    "    <h3>Progress and Projections</h3>\n",
    "    \n",
    "| Deliverable | Percent Complete | Percent Complete By Next Milestone | Estimated Completion Date   | \n",
    "|-------------|:-----:|:------------------------------------------|-------------------------|\n",
    "| Code        |  10%  | 40% | Apr 14 |\n",
    "| Paper       |  0%   | 10% | Apr 22 |\n",
    "| Demo        |  0%   | 0%  | May 1  |\n",
    "| Presentation|  0%   | 0%  | May 5  |"
   ]
  },
  {
   "cell_type": "markdown",
   "metadata": {},
   "source": [
    "1. What deliverable goals established in the last milestone report were accomplished to the anticipated percentage?\n",
    "\n",
    "2. What deliverable goals established in the last milestone report were were not accomplished to the anticipatedpercentage?\n",
    "\n",
    "3. What are the main deliverable goals to meet before the next milestone report, and who is working on them?\n",
    "\n",
    "## Rubric\n",
    "1. Does your report have the necessary table, filled with the correct information? (4 points)\n",
    "2. Does your report answer the questions above clearly and concisely? (4 points)\n",
    "3. Does each team member have a role to play in helping to meet the goals of the next milestone? (4 points)"
   ]
  },
  {
   "cell_type": "markdown",
   "metadata": {},
   "source": [
    "# Move to root of repo once finished"
   ]
  },
  {
   "cell_type": "code",
   "execution_count": null,
   "metadata": {},
   "outputs": [],
   "source": []
  }
 ],
 "metadata": {
  "kernelspec": {
   "display_name": "Python 3",
   "language": "python",
   "name": "python3"
  },
  "language_info": {
   "codemirror_mode": {
    "name": "ipython",
    "version": 3
   },
   "file_extension": ".py",
   "mimetype": "text/x-python",
   "name": "python",
   "nbconvert_exporter": "python",
   "pygments_lexer": "ipython3",
   "version": "3.7.6"
  }
 },
 "nbformat": 4,
 "nbformat_minor": 4
}

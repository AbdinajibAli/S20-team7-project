{
 "cells": [
  {
   "cell_type": "raw",
   "metadata": {},
   "source": [
    "@electronic{msoftdocs,\n",
    " author   = \"Microsoft\",\n",
    " title     = \"DateTime.Ticks Property\",\n",
    " url       = \"https://docs.microsoft.com/en-us/dotnet/api/system.datetime.ticks?view=netframework-4.8\"\n",
    "}"
   ]
  },
  {
   "cell_type": "raw",
   "metadata": {},
   "source": [
    "@electronic{pseudoquote,\n",
    " author   = \"Afshari, Mehrdad\",\n",
    " title     = \"StackOverflow Comment\",\n",
    " url       = \"https://stackoverflow.com/questions/1785744/how-do-i-seed-a-random-class-to-avoid-getting-duplicate-random-values#comment2290983_1785752\"\n",
    "}"
   ]
  },
  {
   "cell_type": "raw",
   "metadata": {},
   "source": [
    "@electronic{tickport,\n",
    " author   = \"mhawke\",\n",
    " title     = \"StackOverflow Answer\",\n",
    " url       = \"https://stackoverflow.com/a/29368771\"\n",
    "}"
   ]
  },
  {
   "cell_type": "raw",
   "metadata": {},
   "source": [
    "@inproceedings{debernardi2018pseudo,\n",
    "  title={Pseudo-Random Number Generation using Generative Adversarial Networks},\n",
    "  author={De Bernardi, Marcello and Khouzani, MHR and Malacaria, Pasquale},\n",
    "  booktitle={Joint European Conference on Machine Learning and Knowledge Discovery in Databases},\n",
    "  pages={191--200},\n",
    "  year={2018},\n",
    "  organization={Springer}\n",
    "}"
   ]
  },
  {
   "cell_type": "raw",
   "metadata": {},
   "source": [
    "@article{10.1145/146382.146383,\n",
    "author = {Matsumoto, Makoto and Kurita, Yoshiharu},\n",
    "title = {Twisted GFSR Generators},\n",
    "year = {1992},\n",
    "issue_date = {July 1992},\n",
    "publisher = {Association for Computing Machinery},\n",
    "address = {New York, NY, USA},\n",
    "volume = {2},\n",
    "number = {3},\n",
    "issn = {1049-3301},\n",
    "url = {https://doi.org/10.1145/146382.146383},\n",
    "doi = {10.1145/146382.146383},\n",
    "journal = {ACM Trans. Model. Comput. Simul.},\n",
    "month = jul,\n",
    "pages = {179–194},\n",
    "numpages = {16},\n",
    "keywords = {GF(2m), m-sequences, TLP-sequences, matrix linear congruential generators, generalized feedback shift registers}\n",
    "}"
   ]
  },
  {
   "cell_type": "raw",
   "metadata": {},
   "source": [
    "@article{10.1145/63039.63042,\n",
    "author = {Park, S. K. and Miller, K. W.},\n",
    "title = {Random Number Generators: Good Ones Are Hard to Find},\n",
    "year = {1988},\n",
    "issue_date = {October 1988},\n",
    "publisher = {Association for Computing Machinery},\n",
    "address = {New York, NY, USA},\n",
    "volume = {31},\n",
    "number = {10},\n",
    "issn = {0001-0782},\n",
    "url = {https://doi.org/10.1145/63039.63042},\n",
    "doi = {10.1145/63039.63042},\n",
    "journal = {Commun. ACM},\n",
    "month = oct,\n",
    "pages = {1192–1201},\n",
    "numpages = {10}\n",
    "}"
   ]
  },
  {
   "cell_type": "raw",
   "metadata": {},
   "source": [
    "@misc{ParkMiller,\n",
    "    author = \"{Wikipedia contributors}\",\n",
    "    title = \"Lehmer random number generator --- {Wikipedia}{,} The Free Encyclopedia\",\n",
    "    year = \"2020\",\n",
    "    howpublished = \"\\url{https://en.wikipedia.org/w/index.php?title=Lehmer_random_number_generator&oldid=950526808}\",\n",
    "    note = \"[Online; accessed 24-April-2020]\"\n",
    "  }"
   ]
  },
  {
   "cell_type": "raw",
   "metadata": {},
   "source": [
    "@article{LEcuyer1999TablesOL,\n",
    "  title={Tables of linear congruential generators of different sizes and good lattice structure},\n",
    "  author={Pierre L'Ecuyer},\n",
    "  journal={Math. Comput.},\n",
    "  year={1999},\n",
    "  volume={68},\n",
    "  pages={249-260}\n",
    "}"
   ]
  },
  {
   "cell_type": "raw",
   "metadata": {},
   "source": [
    "@article{10.1145/321008.321019,\n",
    "author = {Rotenberg, A.},\n",
    "title = {A New Pseudo-Random Number Generator},\n",
    "year = {1960},\n",
    "issue_date = {January 1960},\n",
    "publisher = {Association for Computing Machinery},\n",
    "address = {New York, NY, USA},\n",
    "volume = {7},\n",
    "number = {1},\n",
    "issn = {0004-5411},\n",
    "url = {https://doi.org/10.1145/321008.321019},\n",
    "doi = {10.1145/321008.321019},\n",
    "journal = {J. ACM},\n",
    "month = jan,\n",
    "pages = {75–77},\n",
    "numpages = {3}\n",
    "}"
   ]
  },
  {
   "cell_type": "raw",
   "metadata": {},
   "source": [
    "@book{lucas1891calcul,\n",
    "  title={Le calcul des nombres entiers. Le calcul des nombres rationnels. La divisibilit{\\'e} arithm{\\'e}tique},\n",
    "  author={Lucas, {\\'E}.},\n",
    "  series={Th{\\'e}orie des nombres},\n",
    "  url={https://books.google.com/books?id=\\_hsPAAAAIAAJ},\n",
    "  year={1891},\n",
    "  publisher={Gauthier-Villars}\n",
    "}\n"
   ]
  },
  {
   "cell_type": "raw",
   "metadata": {},
   "source": [
    "@misc{MiddleSquare,\n",
    "    author = \"{Wikipedia contributors}\",\n",
    "    title = \"Middle-square method --- {Wikipedia}{,} The Free Encyclopedia\",\n",
    "    year = \"2020\",\n",
    "    url = \"https://en.wikipedia.org/w/index.php?title=Middle-square_method&oldid=951418817\",\n",
    "    note = \"[Online; accessed 24-April-2020]\"\n",
    "  }"
   ]
  },
  {
   "cell_type": "raw",
   "metadata": {},
   "source": [
    "@misc{Markell94,\n",
    "    author = {Richard Markell},\n",
    "    title = {“Better than Bessel ” Linear Phase Filters for Data Communications},\n",
    "    year = {1994}\n",
    "}"
   ]
  },
  {
   "cell_type": "raw",
   "metadata": {},
   "source": [
    "@misc{CNN,\n",
    "    author = \"{Wikipedia contributors}\",\n",
    "    title = \"Convolutional neural network --- {Wikipedia}{,} The Free Encyclopedia\",\n",
    "    year = \"2020\",\n",
    "    howpublished = \"\\url{https://en.wikipedia.org/w/index.php?title=Convolutional_neural_network&oldid=953234856}\",\n",
    "    note = \"[Online; accessed 28-April-2020]\"\n",
    "  }"
   ]
  }
 ],
 "metadata": {
  "kernelspec": {
   "display_name": "Python 3",
   "language": "python",
   "name": "python3"
  },
  "language_info": {
   "codemirror_mode": {
    "name": "ipython",
    "version": 3
   },
   "file_extension": ".py",
   "mimetype": "text/x-python",
   "name": "python",
   "nbconvert_exporter": "python",
   "pygments_lexer": "ipython3",
   "version": "3.7.6"
  }
 },
 "nbformat": 4,
 "nbformat_minor": 4
}

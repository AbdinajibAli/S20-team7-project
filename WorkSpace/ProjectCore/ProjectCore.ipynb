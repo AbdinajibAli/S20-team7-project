{
 "cells": [
  {
   "cell_type": "markdown",
   "metadata": {},
   "source": [
    "#### PRNG evolution analysis with prediction attacks"
   ]
  },
  {
   "cell_type": "code",
   "execution_count": 1,
   "metadata": {},
   "outputs": [
    {
     "name": "stderr",
     "output_type": "stream",
     "text": [
      "Using TensorFlow backend.\n"
     ]
    }
   ],
   "source": [
    "#Basic imports for now\n",
    "\n",
    "# NN-Tools\n",
    "import numpy as np \n",
    "import keras \n",
    "\n",
    "# Visualization\n",
    "from IPython.display import SVG \n",
    "from IPython.display import display\n",
    "from keras.utils.vis_utils import model_to_dot\n",
    "from keras.utils import plot_model\n",
    "\n",
    "# Printing\n",
    "from sympy import *\n",
    "init_printing(use_latex=True)\n",
    "\n",
    "# Plotting\n",
    "import matplotlib.pyplot as plt\n",
    "%matplotlib inline"
   ]
  },
  {
   "cell_type": "code",
   "execution_count": 3,
   "metadata": {},
   "outputs": [
    {
     "name": "stdout",
     "output_type": "stream",
     "text": [
      "Middle_Square\n"
     ]
    },
    {
     "data": {
      "text/plain": [
       "['0326517048615254456217',\n",
       " '0364164420041782207268',\n",
       " '8243675865538877619641',\n",
       " '0681630797367124178799',\n",
       " '9193415023202459082648',\n",
       " '8446712729588333219546',\n",
       " '1895908302116355792893',\n",
       " '0337230314768012659117',\n",
       " '1985328969698451900399',\n",
       " '9239165441183097744329',\n",
       " '5520651844926258521563',\n",
       " '8877019670329342731120',\n",
       " '4140727047559888953415',\n",
       " '3940348747575026711661',\n",
       " '5160815749005589966576',\n",
       " '1841285760836400585743',\n",
       " '0588825770680557791912',\n",
       " '2175528321673252526121',\n",
       " '4024389169753245096103',\n",
       " '6272133742859327916172',\n",
       " '3145618016683418187605',\n",
       " '8833213832517722025093',\n",
       " '9824229306331134680183',\n",
       " '3755276946831822624158',\n",
       " '4065355640154490009971',\n",
       " '9359232667423893360608',\n",
       " '9745660650332947442395',\n",
       " '4480080758450405128973',\n",
       " '2375572674357559832731',\n",
       " '1543290120393978193706',\n",
       " '7056597078390507865558',\n",
       " '7494514102176956721106',\n",
       " '7292756875765097547685',\n",
       " '0191064274362224262236',\n",
       " '9375633075098203294804',\n",
       " '8753917426863599717103',\n",
       " '3462267020190483451363',\n",
       " '0986895430560618417631',\n",
       " '8614284089820236628470',\n",
       " '1300625973610389543438',\n",
       " '2299737170587244250864',\n",
       " '7806237635063466399328',\n",
       " '0812608149883726024036',\n",
       " '2574521390110186242864',\n",
       " '1348857782863467300364',\n",
       " '3913486999426014440938',\n",
       " '6764299531757210340117',\n",
       " '3308150586169146694341',\n",
       " '7712688680368946718584',\n",
       " '2912847600280465393939',\n",
       " '4596658993152022299973',\n",
       " '3253633936379789940670',\n",
       " '9622469751749175532741',\n",
       " '3278398055404292138397',\n",
       " '6786441455084833688396',\n",
       " '2939547444295304670468',\n",
       " '2630573146381482159842',\n",
       " '4633707668624182441417',\n",
       " '2665561544394310912852',\n",
       " '9537839475111342229701',\n",
       " '9922042523658275860647',\n",
       " '2830876918412396934725',\n",
       " '2000686513039815868705',\n",
       " '4594173120445298547307',\n",
       " '6220916330240263719137',\n",
       " '8499898878295202691535',\n",
       " '2440449372089978245495',\n",
       " '7343690894319652429423',\n",
       " '3133765064995032239600',\n",
       " '5833186370144038266433',\n",
       " '8341810050515552586170',\n",
       " '8822859894985884861065',\n",
       " '5503392385562702134971',\n",
       " '4695295145619208843709',\n",
       " '4753075805992825777374',\n",
       " '5143503880190546963582',\n",
       " '5352124930487795416503',\n",
       " '5489889190488238079413',\n",
       " '8396020088699569131288',\n",
       " '8467207029669115961390',\n",
       " '2780935844427173904068',\n",
       " '8198787790707147711006',\n",
       " '0485921379449407186610',\n",
       " '0060147609020498897567',\n",
       " '8708828003520021394074',\n",
       " '8945217670119211587386',\n",
       " '8129760959222040238070',\n",
       " '0908677986264048855821',\n",
       " '7208869610957831112723',\n",
       " '7913113009600785365601',\n",
       " '7131990656691314623383',\n",
       " '1322092051253461269991',\n",
       " '9875848616471744984674',\n",
       " '4668795642178715529330',\n",
       " '4269647330191936001437',\n",
       " '2151269721695658550676',\n",
       " '4845161939319865819206',\n",
       " '2338431067102469431643',\n",
       " '5899938937541480905832',\n",
       " '7180985292136959325486']"
      ]
     },
     "execution_count": 3,
     "metadata": {},
     "output_type": "execute_result"
    }
   ],
   "source": [
    "from PRNGs import *\n",
    "from SeedGenerator import *\n",
    "\n",
    "t = ticks()\n",
    "Middle_Square(t, 100)"
   ]
  },
  {
   "cell_type": "code",
   "execution_count": null,
   "metadata": {},
   "outputs": [],
   "source": [
    "#initially using fewer kernels and increasing gradually while monitoring the error rate on how it is varying\n",
    "model = keras.Sequential()\n",
    "model.add(keras.layers.Conv1D(64, kernel_size=2,\n",
    "    activation='relu',\n",
    "    input_shape=()) \n",
    "        \n",
    "    #data work in progress\n",
    "          \n",
    "model.add(keras.layers.Conv1D(64, 2, activation='relu'))\n",
    "model.add(keras.layers.Conv1D(64, 2, activation='relu'))\n",
    "model.add(keras.layers.Conv1D(64, 2, activation='relu'))\n",
    "\n",
    "#test pool size and monitor what works better\n",
    "\n",
    "model.add(keras.layers.MaxPooling1D(pool_size=(4)))\n",
    "model.add(keras.layers.Dropout(0.25))\n",
    "model.add(keras.layers.Flatten())\n",
    "model.add(keras.layers.Dense(4, activation='relu'))\n",
    "model.add(keras.layers.Dropout(0.5))\n",
    "          \n",
    "          \n",
    "model.add(keras.layers.Dense(1, activation='softmax'))\n",
    "          \n",
    "    #data work in progress\n",
    "          \n",
    "model.compile(loss=keras.losses.categorical_crossentropy,\n",
    "    optimizer=keras.optimizers.Adam(),\n",
    "    metrics=['accuracy'])\n",
    "          \n",
    "model.summary()"
   ]
  },
  {
   "cell_type": "code",
   "execution_count": null,
   "metadata": {},
   "outputs": [],
   "source": []
  }
 ],
 "metadata": {
  "kernelspec": {
   "display_name": "Python 3",
   "language": "python",
   "name": "python3"
  },
  "language_info": {
   "codemirror_mode": {
    "name": "ipython",
    "version": 3
   },
   "file_extension": ".py",
   "mimetype": "text/x-python",
   "name": "python",
   "nbconvert_exporter": "python",
   "pygments_lexer": "ipython3",
   "version": "3.7.6"
  }
 },
 "nbformat": 4,
 "nbformat_minor": 4
}

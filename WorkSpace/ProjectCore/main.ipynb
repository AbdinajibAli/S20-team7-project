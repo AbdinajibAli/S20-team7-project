{
 "cells": [
  {
   "cell_type": "markdown",
   "metadata": {},
   "source": [
    "#### PRNG evolution analysis with prediction attacks"
   ]
  },
  {
   "cell_type": "markdown",
   "metadata": {},
   "source": [
    "The cell below contains experimental configuration settings in the form of a python dictionary."
   ]
  },
  {
   "cell_type": "code",
   "execution_count": 1,
   "metadata": {},
   "outputs": [
    {
     "name": "stderr",
     "output_type": "stream",
     "text": [
      "Using TensorFlow backend.\n"
     ]
    }
   ],
   "source": [
    "from Core.Experiment import Experiment\n",
    "#pip install keras-tqdm\n",
    "\n"
   ]
  },
  {
   "cell_type": "code",
   "execution_count": 7,
   "metadata": {},
   "outputs": [
    {
     "name": "stdout",
     "output_type": "stream",
     "text": [
      "Prng defs:  {'Middle_Square': '1946', 'Linear_Congruential': '1958', 'Lagged_Fibonacci': '1958', 'Wichmann_Hill': '1982', 'Park_Miller': '1988', 'Maximally_Periodic_Reciprocals': '1992', 'Mersenne_Twister': '1998'}\n",
      "\n",
      "********** Lagged_Fibonacci Experiment Initiated**********\n",
      "\n",
      "Configuration settings accepted: {'DISABLE_TQDMN': False, 'VERBOSE': 1, 'LOUD_LOGGING': True, 'IS_NEW_MODEL': True, 'PATH': './Lagged_Fibonacci/', 'SEED_METHOD': 'ticks_LF', 'PRNG_METHOD': 'Lagged_Fibonacci', 'NUM_SETS': 1000, 'SET_LEN': 1000, 'BATCH_SIZE': 15, 'NUM_EPOCHS': 5, 'CHKPNT_MONITOR': 'mae', 'CHKPNT_MODE': 'min', 'USE_VALIDATION': True, 'VALIDATION_SPLIT': 0.2, 'OVERRIDE_LOAD_COMPILATION': False, 'LR': 0.001, 'LOSS_METHOD': 'mean_absolute_error'}\n",
      "\n",
      "Generating 1000 sets of 1000 using Lagged_Fibonacci ...\n",
      "\n",
      "Generation Successful!\n",
      "\n",
      "Normalizing and shaping data for training...\n",
      "\n",
      "Training and testing sets were successfully generated with input and target data...\n",
      "\n",
      "x_train (1000, 999, 1)\n",
      "y_train (1000,)\n",
      "x_test (1000, 999, 1)\n",
      "y_test (1000,)\n",
      "\n",
      "Printing Model Summary...\n",
      "\n",
      "Model: \"sequential_6\"\n",
      "_________________________________________________________________\n",
      "Layer (type)                 Output Shape              Param #   \n",
      "=================================================================\n",
      "conv_1 (Conv1D)              (None, 998, 4)            12        \n",
      "_________________________________________________________________\n",
      "conv_2 (Conv1D)              (None, 997, 4)            36        \n",
      "_________________________________________________________________\n",
      "conv_3 (Conv1D)              (None, 996, 4)            36        \n",
      "_________________________________________________________________\n",
      "conv_4 (Conv1D)              (None, 995, 4)            36        \n",
      "_________________________________________________________________\n",
      "maxpool_1 (MaxPooling1D)     (None, 995, 4)            0         \n",
      "_________________________________________________________________\n",
      "dropout_6 (Dropout)          (None, 995, 4)            0         \n",
      "_________________________________________________________________\n",
      "flatten_1 (Flatten)          (None, 3980)              0         \n",
      "_________________________________________________________________\n",
      "dense_1 (Dense)              (None, 4)                 15924     \n",
      "_________________________________________________________________\n",
      "dense_2 (Dense)              (None, 1)                 5         \n",
      "=================================================================\n",
      "Total params: 16,049\n",
      "Trainable params: 16,049\n",
      "Non-trainable params: 0\n",
      "_________________________________________________________________\n",
      "\n",
      "Initiate Training...\n",
      "\n"
     ]
    },
    {
     "data": {
      "text/html": [
       "\n",
       "            <style>\n",
       "                .p-Widget.jp-OutputPrompt.jp-OutputArea-prompt:empty {\n",
       "                      padding: 0;\n",
       "                      border: 0;\n",
       "                }\n",
       "            </style>\n",
       "        "
      ],
      "text/plain": [
       "<IPython.core.display.HTML object>"
      ]
     },
     "metadata": {},
     "output_type": "display_data"
    },
    {
     "name": "stdout",
     "output_type": "stream",
     "text": [
      "Train on 800 samples, validate on 200 samples\n"
     ]
    },
    {
     "data": {
      "application/vnd.jupyter.widget-view+json": {
       "model_id": "1e86f37ffacb4789bc256877ac7f76be",
       "version_major": 2,
       "version_minor": 0
      },
      "text/plain": [
       "HBox(children=(FloatProgress(value=0.0, description='Training', max=5.0, style=ProgressStyle(description_width…"
      ]
     },
     "metadata": {},
     "output_type": "display_data"
    },
    {
     "name": "stdout",
     "output_type": "stream",
     "text": [
      "Epoch 1/5\n"
     ]
    },
    {
     "data": {
      "application/vnd.jupyter.widget-view+json": {
       "model_id": "",
       "version_major": 2,
       "version_minor": 0
      },
      "text/plain": [
       "HBox(children=(FloatProgress(value=0.0, description='Epoch 0', max=800.0, style=ProgressStyle(description_widt…"
      ]
     },
     "metadata": {},
     "output_type": "display_data"
    },
    {
     "name": "stdout",
     "output_type": "stream",
     "text": [
      "800/800 [==============================] - 2s 2ms/step - loss: 0.0059 - mae: 0.0059 - val_loss: 0.0056 - val_mae: 0.0056\n",
      "\n",
      "Epoch 00001: mae improved from inf to 0.00586, saving model to ./Lagged_Fibonacci/model.hd5\n",
      "Epoch 2/5\n"
     ]
    },
    {
     "data": {
      "application/vnd.jupyter.widget-view+json": {
       "model_id": "",
       "version_major": 2,
       "version_minor": 0
      },
      "text/plain": [
       "HBox(children=(FloatProgress(value=0.0, description='Epoch 1', max=800.0, style=ProgressStyle(description_widt…"
      ]
     },
     "metadata": {},
     "output_type": "display_data"
    },
    {
     "name": "stdout",
     "output_type": "stream",
     "text": [
      "800/800 [==============================] - 1s 2ms/step - loss: 0.0020 - mae: 0.0020 - val_loss: 0.0018 - val_mae: 0.0018\n",
      "\n",
      "Epoch 00002: mae improved from 0.00586 to 0.00200, saving model to ./Lagged_Fibonacci/model.hd5\n",
      "Epoch 3/5\n"
     ]
    },
    {
     "data": {
      "application/vnd.jupyter.widget-view+json": {
       "model_id": "",
       "version_major": 2,
       "version_minor": 0
      },
      "text/plain": [
       "HBox(children=(FloatProgress(value=0.0, description='Epoch 2', max=800.0, style=ProgressStyle(description_widt…"
      ]
     },
     "metadata": {},
     "output_type": "display_data"
    },
    {
     "name": "stdout",
     "output_type": "stream",
     "text": [
      "800/800 [==============================] - 1s 1ms/step - loss: 0.0017 - mae: 0.0017 - val_loss: 0.0025 - val_mae: 0.0025\n",
      "\n",
      "Epoch 00003: mae improved from 0.00200 to 0.00171, saving model to ./Lagged_Fibonacci/model.hd5\n",
      "Epoch 4/5\n"
     ]
    },
    {
     "data": {
      "application/vnd.jupyter.widget-view+json": {
       "model_id": "",
       "version_major": 2,
       "version_minor": 0
      },
      "text/plain": [
       "HBox(children=(FloatProgress(value=0.0, description='Epoch 3', max=800.0, style=ProgressStyle(description_widt…"
      ]
     },
     "metadata": {},
     "output_type": "display_data"
    },
    {
     "name": "stdout",
     "output_type": "stream",
     "text": [
      "800/800 [==============================] - 1s 1ms/step - loss: 0.0015 - mae: 0.0015 - val_loss: 0.0016 - val_mae: 0.0016\n",
      "\n",
      "Epoch 00004: mae improved from 0.00171 to 0.00154, saving model to ./Lagged_Fibonacci/model.hd5\n",
      "Epoch 5/5\n"
     ]
    },
    {
     "data": {
      "application/vnd.jupyter.widget-view+json": {
       "model_id": "",
       "version_major": 2,
       "version_minor": 0
      },
      "text/plain": [
       "HBox(children=(FloatProgress(value=0.0, description='Epoch 4', max=800.0, style=ProgressStyle(description_widt…"
      ]
     },
     "metadata": {},
     "output_type": "display_data"
    },
    {
     "name": "stdout",
     "output_type": "stream",
     "text": [
      "800/800 [==============================] - 1s 2ms/step - loss: 0.0016 - mae: 0.0016 - val_loss: 0.0016 - val_mae: 0.0016\n",
      "\n",
      "Epoch 00005: mae did not improve from 0.00154\n",
      "\n",
      "Training Finished!\n",
      "\n",
      "Printing results...\n",
      "\n",
      "History Keys:  dict_keys(['val_loss', 'val_mae', 'loss', 'mae'])\n"
     ]
    },
    {
     "data": {
      "image/png": "[encoded data removed]",
      "text/plain": [
       "<Figure size 432x288 with 1 Axes>"
      ]
     },
     "metadata": {
      "needs_background": "light"
     },
     "output_type": "display_data"
    },
    {
     "data": {
      "image/png": "[encoded data removed]",
      "text/plain": [
       "<Figure size 432x288 with 1 Axes>"
      ]
     },
     "metadata": {
      "needs_background": "light"
     },
     "output_type": "display_data"
    },
    {
     "name": "stdout",
     "output_type": "stream",
     "text": [
      "\n",
      "Pearson Correlation Coefficient: 0.2675114528607471\n",
      "2-tailed p-value:                 7.552200274380386e-18 \n",
      "\n",
      "Finished training, testing, and logging. Files saved to ./Lagged_Fibonacci/ \n",
      "\n",
      "********** Lagged_Fibonacci finished**********\n"
     ]
    }
   ],
   "source": [
    "from Core.PrngMethods import Get_Defs\n",
    "\n",
    "defs = Get_Defs()\n",
    "\n",
    "print('Prng defs: ',defs)  \n",
    "\n",
    "configuration = {\n",
    "        'DISABLE_TQDMN' : False,\n",
    "        'VERBOSE' : 1,\n",
    "        'LOUD_LOGGING': True,\n",
    "    \n",
    "        'IS_NEW_MODEL' : True,\n",
    "        'PATH' : './Lagged_Fibonacci/',\n",
    "        'SEED_METHOD' : 'ticks_LF',               \n",
    "        'PRNG_METHOD' : 'Lagged_Fibonacci',       \n",
    "        'NUM_SETS' : 1000,                     \n",
    "        'SET_LEN': 1000,                                               \n",
    "        'BATCH_SIZE': 15,\n",
    "        'NUM_EPOCHS': 5,\n",
    "        \n",
    "        'CHKPNT_MONITOR' : 'mae',\n",
    "        'CHKPNT_MODE' : 'min',\n",
    "        \n",
    "        \n",
    "        'USE_VALIDATION' : True ,\n",
    "        'VALIDATION_SPLIT' :  0.2,\n",
    "    \n",
    "        'OVERRIDE_LOAD_COMPILATION' : False,\n",
    "        'LR': .001,\n",
    "        'LOSS_METHOD':'mean_absolute_error' #mae\n",
    "    }  \n",
    "\n",
    "\n",
    "E = Experiment(configuration)\n",
    "E.perform()"
   ]
  },
  {
   "cell_type": "code",
   "execution_count": null,
   "metadata": {},
   "outputs": [],
   "source": []
  },
  {
   "cell_type": "code",
   "execution_count": null,
   "metadata": {},
   "outputs": [],
   "source": []
  },
  {
   "cell_type": "code",
   "execution_count": null,
   "metadata": {},
   "outputs": [],
   "source": []
  },
  {
   "cell_type": "code",
   "execution_count": null,
   "metadata": {},
   "outputs": [],
   "source": []
  },
  {
   "cell_type": "code",
   "execution_count": 11,
   "metadata": {},
   "outputs": [
    {
     "name": "stdout",
     "output_type": "stream",
     "text": [
      "[9, 9, 13, 3, 12, 11, 14, 7, 19, 20, 14, 11, 20, 20, 14, 15, 25, 25, 19, 24, 29, 34, 23, 27, 36, 40, 23, 30, 36, 46, 29, 39, 45, 51, 30, 39, 54, 55, 35, 44, 58, 63, 38, 52, 60, 63, 41, 53, 63, 66, 47, 60, 63, 69, 56, 66, 69, 78, 64, 70, 69, 87, 71, 71, 70, 87, 78, 79, 79, 96, 84, 83, 82, 98, 92, 85, 87, 105, 97, 92, 89, 114, 101, 93, 92, 116, 107, 100, 92, 118, 115, 105, 97, 125, 120, 105, 102, 127, 127, 112, 104, 131, 128, 120, 104, 135, 133, 123, 107, 142, 135, 128, 115, 147, 142, 130, 115, 152, 144, 134, 119, 161, 145, 139, 128, 169, 154, 143, 131, 170, 154, 147, 138, 178, 162, 149, 147, 185, 167, 156, 153, 188, 175, 161, 154, 192, 177, 168, 162, 194, 181, 169, 171, 195, 186, 175, 176, 201, 187, 182, 178, 209, 196, 188, 186, 215, 201, 189, 195, 220, 201, 190, 195, 225, 206, 196, 201, 226, 212, 198, 209, 235, 217, 205, 214, 239, 226, 211, 215, 244, 230, 211, 216, 250, 230, 211, 217, 257, 237, 218, 225, 262, 239, 227, 232, 264, 243, 230, 232, 266, 249, 239, 241, 267, 256, 245, 246, 273, 259, 254, 250, 273, 262, 256, 256, 279, 271, 257, 263, 282, 273, 260, 263, 285, 278, 268, 271, 286, 284, 272, 273, 289, 293, 275, 278, 297, 300, 275, 283, 300, 300, 275, 288, 308, 308, 283, 291, 309, 317, 290, 291, 310, 317, 297, 298, 318, 325, 302, 300, 318, 333, 305, 305, 323, 336, 311, 306, 329, 345, 316, 312, 331, 346, 322, 314, 335, 351, 323, 317, 342, 353, 326, 323, 345, 358, 334, 327, 352, 360, 334, 331, 353, 363, 337, 338, 361, 364, 341, 339, 370, 364, 345, 344, 374, 368, 353, 347, 381, 369, 362, 349, 390, 369, 371, 350, 390, 369, 380, 350, 390, 369, 389, 359, 399, 378, 397, 366, 405, 383, 400, 366, 411, 384, 404, 370, 411, 385, 409, 379, 420, 385, 414, 383, 423, 388, 422, 385, 428, 396, 428, 393, 431, 397, 435, 398, 439, 406, 441, 399, 448, 414, 445, 404, 452, 416, 451, 405, 457, 423, 454, 409, 466, 429, 463, 412, 468, 437, 470, 412, 470, 437, 477, 419, 479, 446, 483, 422, 481, 447, 490, 422, 483, 450, 490, 422, 485, 455, 495, 427, 492, 457, 502, 429, 501, 458, 510, 429, 510, 458, 518, 437, 517, 465, 523, 440, 517, 472, 525, 445, 522, 474, 529, 454, 526, 480, 529, 463, 529, 489, 538, 471, 530, 489, 547, 478, 538, 497, 554, 482, 540, 497, 561, 483, 543, 500, 561, 484, 547, 507, 568, 492, 549, 516, 574, 496, 555, 521, 575, 501, 556, 527, 582, 503, 559, 536, 588, 511, 560, 536, 594, 515, 565, 541, 595, 520, 565, 546, 601, 521, 566, 552, 603, 524, 570, 552, 605, 529, 579, 561, 606, 535, 584, 565, 611, 536, 590, 565, 616, 542, 592, 567, 623, 545, 597, 574, 627, 552, 599, 583, 630, 552, 601, 584, 634, 556, 607, 591, 635, 561, 608, 599, 644, 565, 613, 602, 646, 571, 614, 606, 652, 573, 617, 613, 655, 578, 625, 618, 663, 581, 626, 624, 667, 588, 634, 628, 675, 593, 637, 635, 680, 593, 640, 635, 685, 598, 648, 643, 688, 606, 654, 647, 695, 611, 655, 652, 697, 618, 663, 655, 702, 620, 663, 658, 710, 620, 663, 661, 711, 621, 664, 665, 716, 627, 671, 666, 722, 629, 680, 666, 728, 637, 687, 673, 731, 638, 695, 678, 739, 647, 702, 680, 739, 656, 708, 688, 747, 663, 711, 689, 756, 669, 720, 689, 765, 674, 724, 693, 768, 682, 726, 699, 777, 689, 735, 704, 781, 690, 735, 709, 790, 690, 735, 714, 794, 694, 739, 723, 797, 701, 740, 723, 800, 701, 741, 724, 804, 705, 746, 730, 804, 709, 755, 735, 809, 718, 763, 738, 817, 725, 768, 746, 823, 728, 776, 752, 825, 733, 779, 761, 826, 739, 788, 769, 835, 744, 792, 771, 836, 750, 792, 773, 839, 759, 801, 774, 843, 762, 803, 777, 850, 762, 805, 782, 852, 764, 809, 791, 853, 767, 816, 797, 860, 767, 823, 800, 860, 767, 830, 800, 860, 767, 837, 807, 867, 774, 841, 808, 875, 779, 850, 808, 883, 782, 852, 810, 883, 785, 857, 817, 890, 785, 862, 819, 899, 794, 866, 825, 904, 798, 874, 829, 913, 801, 875, 834, 917, 808, 883, 837, 924, 812, 885, 842, 926, 818, 893, 845, 931, 819, 902, 847, 938, 827, 909, 856, 944, 831, 910, 856, 950, 831, 911, 857, 957, 838, 919, 866, 963, 841, 920, 866, 969, 850, 920, 866, 975, 855, 925, 871, 976, 861, 926, 877, 983, 864, 930, 877, 990, 864, 934, 881, 991, 865, 939, 890, 991, 866, 945, 895, 996, 872, 947, 902, 998, 880, 947, 909, 1007, 887, 954, 913, 1010, 887, 961, 914, 1014, 891, 962, 916, 1020, 891, 963, 919, 1029, 900, 963, 922, 1031, 901, 964, 926, 1037, 908, 972, 928, 1045, 913, 975, 933, 1048, 921, 976, 939, 1057, 928, 984, 943, 1060, 928, 992, 945, 1065, 933, 995, 950, 1065, 938, 1003, 953, 1068, 946, 1009, 962, 1070, 946, 1015, 967, 1077, 953, 1018, 975, 1082, 955, 1023, 978, 1090, 955, 1028, 986, 1096, 961, 1029, 995, 1101, 962, 1031, 996, 1107, 969, 1040, 996, 1113, 972, 1042, 998, 1121, 973, 1045, 1003, 1124, 977, 1052, 1005, 1129, 986, 1058, 1013, 1132, 988, 1066, 1019, 1141, 989, 1075, 1024, 1145, 994, 1079, 1033, 1148, 1002, 1081, 1034, 1152, 1004, 1085, 1039, 1161, 1005, 1090, 1039, 1170, 1005, 1095, 1044, 1174, 1009, 1104, 1048, 1182, 1011, 1105, 1053, 1185, 1016, 1111, 1054, 1189, 1025, 1116, 1060, 1189, 1034, 1120, 1060, 1189, 1043, 1123, 1063, 1192, 1045, 1128, 1071, 1193, 1048, 1136, 1077, 1200, 1048, 1144, 1081, 1201, 1049, 1153, 1084, 1205, 1054, 1157, 1091, 1206]\n"
     ]
    }
   ],
   "source": [
    "def lf(seed, listlength, j=7 , k=10):\n",
    "    #litte dirty and expensive with validation checks\n",
    "    #validation checks\n",
    "    \n",
    "    \n",
    "    \n",
    "    # 0 < j < k\n",
    "    if(not(0 < j and j < k)):\n",
    "        return\n",
    "    \n",
    "    #If addition is used, it is required that at least one of the first k values chosen to initialise the generator be odd;\n",
    "    flag = False\n",
    "    for i in range(len(str(seed))):\n",
    "        if(i > k):\n",
    "            flag = True\n",
    "            break\n",
    "        if(int(str(seed)[i]) % 2 != 0):\n",
    "            flag = True\n",
    "            break\n",
    "    \n",
    "    #implementation  \n",
    "    numlist = []\n",
    "    seedlist = []\n",
    "    \n",
    "    for i in range(len(str(seed))):\n",
    "        seedlist.append(str(seed)[i])\n",
    "        \n",
    "    if(flag):\n",
    "        for n in range(listlength):\n",
    "            for i in range(len(seedlist)):\n",
    "                if i is 0:\n",
    "                    val = int(seedlist[j-1]) + int(seedlist[k-1]) % 10 #arbitrary mod?\n",
    "                    numlist.append(val)\n",
    "                elif 0 < i < len(seedlist) - 1:\n",
    "                    seedlist[i] = seedlist[i+1] # shift array\n",
    "                else:\n",
    "                    seedlist[i] = val\n",
    "    return numlist\n",
    "\n",
    "\n",
    "print(lf(8022519040 , 1000))\n"
   ]
  },
  {
   "cell_type": "code",
   "execution_count": null,
   "metadata": {},
   "outputs": [],
   "source": []
  },
  {
   "cell_type": "code",
   "execution_count": null,
   "metadata": {},
   "outputs": [],
   "source": []
  },
  {
   "cell_type": "code",
   "execution_count": null,
   "metadata": {},
   "outputs": [],
   "source": []
  },
  {
   "cell_type": "code",
   "execution_count": null,
   "metadata": {},
   "outputs": [],
   "source": []
  }
 ],
 "metadata": {
  "kernelspec": {
   "display_name": "Python 3",
   "language": "python",
   "name": "python3"
  },
  "language_info": {
   "codemirror_mode": {
    "name": "ipython",
    "version": 3
   },
   "file_extension": ".py",
   "mimetype": "text/x-python",
   "name": "python",
   "nbconvert_exporter": "python",
   "pygments_lexer": "ipython3",
   "version": "3.7.6"
  }
 },
 "nbformat": 4,
 "nbformat_minor": 4
}
